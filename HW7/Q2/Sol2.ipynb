{
  "nbformat": 4,
  "nbformat_minor": 0,
  "metadata": {
    "colab": {
      "name": "HW7-solution.ipynb",
      "provenance": []
    },
    "kernelspec": {
      "name": "python3",
      "display_name": "Python 3"
    },
    "language_info": {
      "name": "python"
    },
    "accelerator": "GPU",
    "gpuClass": "standard"
  },
  "cells": [
    {
      "cell_type": "markdown",
      "source": [
        "<div align=center>\n",
        "\t\t\n",
        "<p></p>\n",
        "<p></p>\n",
        "<font size=5>\n",
        "In the Name of God\n",
        "<font/>\n",
        "<p></p>\n",
        " <br/>\n",
        "    <br/>\n",
        "    <br/>\n",
        "<font color=#FF7500>\n",
        "Sharif University of Technology - Departmenet of Computer Engineering\n",
        "</font>\n",
        "<p></p>\n",
        "<font color=blue>\n",
        "Artifical Intelligence - Dr. Mohammad Hossein Rohban\n",
        "</font>\n",
        "<br/>\n",
        "<br/>\n",
        "Spring 2022\n",
        "\n",
        "</div>\n",
        "\n",
        "<hr/>\n",
        "\t\t<div align=center>\n",
        "\t\t    <font color=red size=6>\n",
        "\t\t\t    <br />\n",
        "Practical Assignment \n",
        "            \t<br/>\n",
        "\t\t\t</font>\n",
        "    <br/>\n",
        "    <br/>\n",
        "<font size=4>\n",
        "\t\t\t<br/><br/>\n",
        "Deadline:  Tir 25\n",
        "                <br/><b>\n",
        "              Cheating is Strongly Prohibited\n",
        "                </b><br/><br/>\n",
        "                <font color=red>\n",
        "Please run all the cells.\n",
        "     </font>\n",
        "</font>\n",
        "                <br/>\n",
        "    </div>"
      ],
      "metadata": {
        "id": "g1oDLRBPTnOt"
      }
    },
    {
      "cell_type": "markdown",
      "metadata": {
        "id": "xyAJO9HTfZ5y"
      },
      "source": [
        "# Personal Data\n"
      ]
    },
    {
      "cell_type": "code",
      "execution_count": null,
      "metadata": {
        "id": "nNmw4nhFfZ5z"
      },
      "outputs": [],
      "source": [
        "# Set your student number\n",
        "student_number = 98000000\n",
        "Name = ''\n",
        "Last_Name = ''"
      ]
    },
    {
      "cell_type": "markdown",
      "metadata": {
        "id": "5ZX6zn8ofZ50"
      },
      "source": [
        "# Rules\n",
        "- You are not allowed to use provided codes that can be found on the internet. \n",
        "- If you want to use a library which is not already imported, you must ask a question on Quera to get the permission of using that.\n",
        "- Do not hesitate to ask questions on Quera, if you have any."
      ]
    },
    {
      "cell_type": "markdown",
      "source": [
        "in this problem, you are asked to implement a DQN(deep q-learning network) for one of gym environments \"PongDeterministic-v4\"."
      ],
      "metadata": {
        "id": "42VDE8xJT4GU"
      }
    },
    {
      "cell_type": "markdown",
      "metadata": {
        "id": "YNe5ZIlF7P0A"
      },
      "source": [
        "# Mastering Atari Games using Deep Reinforcement Learning\n",
        "\n",
        "In this assignment, you will learn how to implement a Double-Deep-Q-Network (DDQN), and to demonstrate that, you may implement and train a DDQN and run it on an Atari game in **OpenAI-Gym** environment. Additionally, you may also want to refer to the [original paper](https://arxiv.org/pdf/1312.5602.pdf) regarding the usage of DQN in Atari networks. Double-DQN works the same with slight difference in using two identical networks for Q-table. [read this](https://medium.com/@parsa_h_m/deep-reinforcement-learning-dqn-double-dqn-dueling-dqn-noisy-dqn-and-dqn-with-prioritized-551f621a9823)\n",
        "\n",
        "* **PongDeterministic-v4**: A famous Atari game that is a staple for learning deep q networks. This game is already available in the gym library environment. By solving this completely you will receive 100/100 points.\n",
        "\n",
        "In the following, you can read the description of the games and how to start running it. We advise using either `Google-Colab` or `Kaggle` for training the model as DQN models usually take a lot of time to train.\n"
      ]
    },
    {
      "cell_type": "markdown",
      "source": [
        "# Environment setup and importing libraries"
      ],
      "metadata": {
        "id": "oECbPx8FTsUA"
      }
    },
    {
      "cell_type": "code",
      "execution_count": null,
      "metadata": {
        "colab": {
          "base_uri": "https://localhost:8080/"
        },
        "id": "MNUHdHe7KZ4d",
        "outputId": "609a76f3-595b-42bb-d171-ef67a4efec86"
      },
      "outputs": [
        {
          "output_type": "stream",
          "name": "stdout",
          "text": [
            "Sat Jun 18 13:34:41 2022       \n",
            "+-----------------------------------------------------------------------------+\n",
            "| NVIDIA-SMI 460.32.03    Driver Version: 460.32.03    CUDA Version: 11.2     |\n",
            "|-------------------------------+----------------------+----------------------+\n",
            "| GPU  Name        Persistence-M| Bus-Id        Disp.A | Volatile Uncorr. ECC |\n",
            "| Fan  Temp  Perf  Pwr:Usage/Cap|         Memory-Usage | GPU-Util  Compute M. |\n",
            "|                               |                      |               MIG M. |\n",
            "|===============================+======================+======================|\n",
            "|   0  Tesla T4            Off  | 00000000:00:04.0 Off |                    0 |\n",
            "| N/A   41C    P8     9W /  70W |      0MiB / 15109MiB |      0%      Default |\n",
            "|                               |                      |                  N/A |\n",
            "+-------------------------------+----------------------+----------------------+\n",
            "                                                                               \n",
            "+-----------------------------------------------------------------------------+\n",
            "| Processes:                                                                  |\n",
            "|  GPU   GI   CI        PID   Type   Process name                  GPU Memory |\n",
            "|        ID   ID                                                   Usage      |\n",
            "|=============================================================================|\n",
            "|  No running processes found                                                 |\n",
            "+-----------------------------------------------------------------------------+\n"
          ]
        }
      ],
      "source": [
        "!nvidia-smi"
      ]
    },
    {
      "cell_type": "code",
      "source": [
        "!pip install atari-py"
      ],
      "metadata": {
        "colab": {
          "base_uri": "https://localhost:8080/"
        },
        "id": "XZfYEJ2BVVcr",
        "outputId": "0a58460d-1f08-4600-a290-83fdc18f3785"
      },
      "execution_count": null,
      "outputs": [
        {
          "output_type": "stream",
          "name": "stdout",
          "text": [
            "Looking in indexes: https://pypi.org/simple, https://us-python.pkg.dev/colab-wheels/public/simple/\n",
            "Requirement already satisfied: atari-py in /usr/local/lib/python3.7/dist-packages (0.2.9)\n",
            "Requirement already satisfied: numpy in /usr/local/lib/python3.7/dist-packages (from atari-py) (1.21.6)\n",
            "Requirement already satisfied: six in /usr/local/lib/python3.7/dist-packages (from atari-py) (1.15.0)\n"
          ]
        }
      ]
    },
    {
      "cell_type": "code",
      "source": [
        "import gym\n",
        "import cv2\n",
        "\n",
        "import time\n",
        "import json\n",
        "import random\n",
        "import numpy as np\n",
        "\n",
        "import torch\n",
        "import torch.nn as nn\n",
        "import torch.optim as optim\n",
        "import torch.nn.functional as F\n",
        "\n",
        "from collections import deque\n",
        "\n",
        "import matplotlib.pyplot as plt\n",
        "from IPython.display import clear_output\n",
        "\n",
        "%matplotlib inline"
      ],
      "metadata": {
        "id": "uXw5NEiQK72N"
      },
      "execution_count": null,
      "outputs": []
    },
    {
      "cell_type": "markdown",
      "source": [
        "First mount to your colab"
      ],
      "metadata": {
        "id": "irfvrM3FUcbd"
      }
    },
    {
      "cell_type": "code",
      "source": [
        "from google.colab import drive\n",
        "drive.mount('/content/drive')\n",
        "%cd \"drive/MyDrive/RL-HW7/\""
      ],
      "metadata": {
        "colab": {
          "base_uri": "https://localhost:8080/"
        },
        "id": "aSqldjofUbyZ",
        "outputId": "8ab371d0-7a85-4e19-d859-a9a8f0b1d755"
      },
      "execution_count": null,
      "outputs": [
        {
          "output_type": "stream",
          "name": "stdout",
          "text": [
            "Mounted at /content/drive\n",
            "/content/drive/MyDrive/RL-HW7\n"
          ]
        }
      ]
    },
    {
      "cell_type": "markdown",
      "source": [
        "now download ROM.rar from [here](http://www.atarimania.com/rom_collection_archive_atari_2600_roms.html) and then, upload them to the same folder as this google colab is located. Then unrar it using code below:"
      ],
      "metadata": {
        "id": "hrhkzMspUfVS"
      }
    },
    {
      "cell_type": "code",
      "source": [
        "!wget http://www.atarimania.com/roms/Roms.rar "
      ],
      "metadata": {
        "id": "2VtpkHNyiqRK"
      },
      "execution_count": null,
      "outputs": []
    },
    {
      "cell_type": "code",
      "source": [
        "!unrar x \"Roms.rar\""
      ],
      "metadata": {
        "id": "ppku6CD1U_8O"
      },
      "execution_count": null,
      "outputs": []
    },
    {
      "cell_type": "markdown",
      "source": [
        "now add them to your python!"
      ],
      "metadata": {
        "id": "hx4m59MvU2DV"
      }
    },
    {
      "cell_type": "code",
      "source": [
        "!python -m atari_py.import_roms /content/drive/MyDrive/RL-HW7"
      ],
      "metadata": {
        "colab": {
          "base_uri": "https://localhost:8080/"
        },
        "id": "k8SrRtr0VP7X",
        "outputId": "2d237396-046a-4d4e-e352-ae4165b8751c"
      },
      "execution_count": null,
      "outputs": [
        {
          "output_type": "stream",
          "name": "stdout",
          "text": [
            "copying atlantis.bin from /content/drive/MyDrive/RL-HW7/HC ROMS/BY ALPHABET/A-G/Atlantis.bin to /usr/local/lib/python3.7/dist-packages/atari_py/atari_roms/atlantis.bin\n",
            "copying chopper_command.bin from /content/drive/MyDrive/RL-HW7/HC ROMS/BY ALPHABET/A-G/Chopper Command.bin to /usr/local/lib/python3.7/dist-packages/atari_py/atari_roms/chopper_command.bin\n",
            "copying breakout.bin from /content/drive/MyDrive/RL-HW7/HC ROMS/BY ALPHABET/A-G/Breakout - Breakaway IV.bin to /usr/local/lib/python3.7/dist-packages/atari_py/atari_roms/breakout.bin\n",
            "copying boxing.bin from /content/drive/MyDrive/RL-HW7/HC ROMS/BY ALPHABET/A-G/Boxing.bin to /usr/local/lib/python3.7/dist-packages/atari_py/atari_roms/boxing.bin\n",
            "copying freeway.bin from /content/drive/MyDrive/RL-HW7/HC ROMS/BY ALPHABET/A-G/Freeway.bin to /usr/local/lib/python3.7/dist-packages/atari_py/atari_roms/freeway.bin\n",
            "copying bank_heist.bin from /content/drive/MyDrive/RL-HW7/HC ROMS/BY ALPHABET/A-G/Bank Heist.bin to /usr/local/lib/python3.7/dist-packages/atari_py/atari_roms/bank_heist.bin\n",
            "copying demon_attack.bin from /content/drive/MyDrive/RL-HW7/HC ROMS/BY ALPHABET/A-G/Demon Attack.bin to /usr/local/lib/python3.7/dist-packages/atari_py/atari_roms/demon_attack.bin\n",
            "copying alien.bin from /content/drive/MyDrive/RL-HW7/HC ROMS/BY ALPHABET/A-G/Alien.bin to /usr/local/lib/python3.7/dist-packages/atari_py/atari_roms/alien.bin\n",
            "copying amidar.bin from /content/drive/MyDrive/RL-HW7/HC ROMS/BY ALPHABET/A-G/Amidar.bin to /usr/local/lib/python3.7/dist-packages/atari_py/atari_roms/amidar.bin\n",
            "copying air_raid.bin from /content/drive/MyDrive/RL-HW7/HC ROMS/BY ALPHABET/A-G/Air Raid (PAL).bin to /usr/local/lib/python3.7/dist-packages/atari_py/atari_roms/air_raid.bin\n",
            "copying asteroids.bin from /content/drive/MyDrive/RL-HW7/HC ROMS/BY ALPHABET/A-G/Asteroids [no copyright].bin to /usr/local/lib/python3.7/dist-packages/atari_py/atari_roms/asteroids.bin\n",
            "copying beam_rider.bin from /content/drive/MyDrive/RL-HW7/HC ROMS/BY ALPHABET/A-G/Beamrider.bin to /usr/local/lib/python3.7/dist-packages/atari_py/atari_roms/beam_rider.bin\n",
            "copying berzerk.bin from /content/drive/MyDrive/RL-HW7/HC ROMS/BY ALPHABET/A-G/Berzerk.bin to /usr/local/lib/python3.7/dist-packages/atari_py/atari_roms/berzerk.bin\n",
            "copying battle_zone.bin from /content/drive/MyDrive/RL-HW7/HC ROMS/BY ALPHABET/A-G/Battlezone.bin to /usr/local/lib/python3.7/dist-packages/atari_py/atari_roms/battle_zone.bin\n",
            "copying bowling.bin from /content/drive/MyDrive/RL-HW7/HC ROMS/BY ALPHABET/A-G/Bowling.bin to /usr/local/lib/python3.7/dist-packages/atari_py/atari_roms/bowling.bin\n",
            "copying centipede.bin from /content/drive/MyDrive/RL-HW7/HC ROMS/BY ALPHABET/A-G/Centipede.bin to /usr/local/lib/python3.7/dist-packages/atari_py/atari_roms/centipede.bin\n",
            "copying carnival.bin from /content/drive/MyDrive/RL-HW7/HC ROMS/BY ALPHABET/A-G/Carnival.bin to /usr/local/lib/python3.7/dist-packages/atari_py/atari_roms/carnival.bin\n",
            "copying crazy_climber.bin from /content/drive/MyDrive/RL-HW7/HC ROMS/BY ALPHABET/A-G/Crazy Climber.bin to /usr/local/lib/python3.7/dist-packages/atari_py/atari_roms/crazy_climber.bin\n",
            "copying donkey_kong.bin from /content/drive/MyDrive/RL-HW7/HC ROMS/BY ALPHABET/A-G/Donkey Kong.bin to /usr/local/lib/python3.7/dist-packages/atari_py/atari_roms/donkey_kong.bin\n",
            "copying double_dunk.bin from /content/drive/MyDrive/RL-HW7/HC ROMS/BY ALPHABET/A-G/Double Dunk.bin to /usr/local/lib/python3.7/dist-packages/atari_py/atari_roms/double_dunk.bin\n",
            "copying defender.bin from /content/drive/MyDrive/RL-HW7/HC ROMS/BY ALPHABET/A-G/Defender.bin to /usr/local/lib/python3.7/dist-packages/atari_py/atari_roms/defender.bin\n",
            "copying enduro.bin from /content/drive/MyDrive/RL-HW7/HC ROMS/BY ALPHABET/A-G/Enduro.bin to /usr/local/lib/python3.7/dist-packages/atari_py/atari_roms/enduro.bin\n",
            "copying frogger.bin from /content/drive/MyDrive/RL-HW7/HC ROMS/BY ALPHABET/A-G/Frogger.bin to /usr/local/lib/python3.7/dist-packages/atari_py/atari_roms/frogger.bin\n",
            "copying frostbite.bin from /content/drive/MyDrive/RL-HW7/HC ROMS/BY ALPHABET/A-G/Frostbite.bin to /usr/local/lib/python3.7/dist-packages/atari_py/atari_roms/frostbite.bin\n",
            "copying fishing_derby.bin from /content/drive/MyDrive/RL-HW7/HC ROMS/BY ALPHABET/A-G/Fishing Derby.bin to /usr/local/lib/python3.7/dist-packages/atari_py/atari_roms/fishing_derby.bin\n",
            "copying gopher.bin from /content/drive/MyDrive/RL-HW7/HC ROMS/BY ALPHABET/A-G/Gopher.bin to /usr/local/lib/python3.7/dist-packages/atari_py/atari_roms/gopher.bin\n",
            "copying gravitar.bin from /content/drive/MyDrive/RL-HW7/HC ROMS/BY ALPHABET/A-G/Gravitar.bin to /usr/local/lib/python3.7/dist-packages/atari_py/atari_roms/gravitar.bin\n",
            "copying galaxian.bin from /content/drive/MyDrive/RL-HW7/HC ROMS/BY ALPHABET/A-G/Galaxian.bin to /usr/local/lib/python3.7/dist-packages/atari_py/atari_roms/galaxian.bin\n",
            "copying elevator_action.bin from /content/drive/MyDrive/RL-HW7/HC ROMS/BY ALPHABET/A-G/Elevator Action (Prototype).bin to /usr/local/lib/python3.7/dist-packages/atari_py/atari_roms/elevator_action.bin\n",
            "copying ms_pacman.bin from /content/drive/MyDrive/RL-HW7/HC ROMS/BY ALPHABET/H-R/Ms. Pac-Man.bin to /usr/local/lib/python3.7/dist-packages/atari_py/atari_roms/ms_pacman.bin\n",
            "copying kung_fu_master.bin from /content/drive/MyDrive/RL-HW7/HC ROMS/BY ALPHABET/H-R/Kung-Fu Master.bin to /usr/local/lib/python3.7/dist-packages/atari_py/atari_roms/kung_fu_master.bin\n",
            "copying pitfall.bin from /content/drive/MyDrive/RL-HW7/HC ROMS/BY ALPHABET/H-R/Pitfall! - Pitfall Harry's Jungle Adventure.bin to /usr/local/lib/python3.7/dist-packages/atari_py/atari_roms/pitfall.bin\n",
            "copying ice_hockey.bin from /content/drive/MyDrive/RL-HW7/HC ROMS/BY ALPHABET/H-R/Ice Hockey.bin to /usr/local/lib/python3.7/dist-packages/atari_py/atari_roms/ice_hockey.bin\n",
            "copying kaboom.bin from /content/drive/MyDrive/RL-HW7/HC ROMS/BY ALPHABET/H-R/Kaboom!.bin to /usr/local/lib/python3.7/dist-packages/atari_py/atari_roms/kaboom.bin\n",
            "copying koolaid.bin from /content/drive/MyDrive/RL-HW7/HC ROMS/BY ALPHABET/H-R/Kool-Aid Man.bin to /usr/local/lib/python3.7/dist-packages/atari_py/atari_roms/koolaid.bin\n",
            "copying robotank.bin from /content/drive/MyDrive/RL-HW7/HC ROMS/BY ALPHABET/H-R/Robot Tank.bin to /usr/local/lib/python3.7/dist-packages/atari_py/atari_roms/robotank.bin\n",
            "copying hero.bin from /content/drive/MyDrive/RL-HW7/HC ROMS/BY ALPHABET/H-R/H.E.R.O..bin to /usr/local/lib/python3.7/dist-packages/atari_py/atari_roms/hero.bin\n",
            "copying montezuma_revenge.bin from /content/drive/MyDrive/RL-HW7/HC ROMS/BY ALPHABET/H-R/Montezuma's Revenge - Featuring Panama Joe.bin to /usr/local/lib/python3.7/dist-packages/atari_py/atari_roms/montezuma_revenge.bin\n",
            "copying kangaroo.bin from /content/drive/MyDrive/RL-HW7/HC ROMS/BY ALPHABET/H-R/Kangaroo.bin to /usr/local/lib/python3.7/dist-packages/atari_py/atari_roms/kangaroo.bin\n",
            "copying journey_escape.bin from /content/drive/MyDrive/RL-HW7/HC ROMS/BY ALPHABET/H-R/Journey Escape.bin to /usr/local/lib/python3.7/dist-packages/atari_py/atari_roms/journey_escape.bin\n",
            "copying krull.bin from /content/drive/MyDrive/RL-HW7/HC ROMS/BY ALPHABET/H-R/Krull.bin to /usr/local/lib/python3.7/dist-packages/atari_py/atari_roms/krull.bin\n",
            "copying name_this_game.bin from /content/drive/MyDrive/RL-HW7/HC ROMS/BY ALPHABET/H-R/Name This Game.bin to /usr/local/lib/python3.7/dist-packages/atari_py/atari_roms/name_this_game.bin\n",
            "copying qbert.bin from /content/drive/MyDrive/RL-HW7/HC ROMS/BY ALPHABET/H-R/Q-bert.bin to /usr/local/lib/python3.7/dist-packages/atari_py/atari_roms/qbert.bin\n",
            "copying phoenix.bin from /content/drive/MyDrive/RL-HW7/HC ROMS/BY ALPHABET/H-R/Phoenix.bin to /usr/local/lib/python3.7/dist-packages/atari_py/atari_roms/phoenix.bin\n",
            "copying pooyan.bin from /content/drive/MyDrive/RL-HW7/HC ROMS/BY ALPHABET/H-R/Pooyan.bin to /usr/local/lib/python3.7/dist-packages/atari_py/atari_roms/pooyan.bin\n",
            "copying private_eye.bin from /content/drive/MyDrive/RL-HW7/HC ROMS/BY ALPHABET/H-R/Private Eye.bin to /usr/local/lib/python3.7/dist-packages/atari_py/atari_roms/private_eye.bin\n",
            "copying jamesbond.bin from /content/drive/MyDrive/RL-HW7/HC ROMS/BY ALPHABET/H-R/James Bond 007.bin to /usr/local/lib/python3.7/dist-packages/atari_py/atari_roms/jamesbond.bin\n",
            "copying lost_luggage.bin from /content/drive/MyDrive/RL-HW7/HC ROMS/BY ALPHABET/H-R/Lost Luggage [no opening scene].bin to /usr/local/lib/python3.7/dist-packages/atari_py/atari_roms/lost_luggage.bin\n",
            "copying riverraid.bin from /content/drive/MyDrive/RL-HW7/HC ROMS/BY ALPHABET/H-R/River Raid.bin to /usr/local/lib/python3.7/dist-packages/atari_py/atari_roms/riverraid.bin\n",
            "copying road_runner.bin from patched version of /content/drive/MyDrive/RL-HW7/HC ROMS/BY ALPHABET/H-R/Road Runner.bin to /usr/local/lib/python3.7/dist-packages/atari_py/atari_roms/road_runner.bin\n",
            "copying up_n_down.bin from /content/drive/MyDrive/RL-HW7/HC ROMS/BY ALPHABET/S-Z/Up 'n Down.bin to /usr/local/lib/python3.7/dist-packages/atari_py/atari_roms/up_n_down.bin\n",
            "copying skiing.bin from /content/drive/MyDrive/RL-HW7/HC ROMS/BY ALPHABET/S-Z/Skiing.bin to /usr/local/lib/python3.7/dist-packages/atari_py/atari_roms/skiing.bin\n",
            "copying tennis.bin from /content/drive/MyDrive/RL-HW7/HC ROMS/BY ALPHABET/S-Z/Tennis.bin to /usr/local/lib/python3.7/dist-packages/atari_py/atari_roms/tennis.bin\n",
            "copying star_gunner.bin from /content/drive/MyDrive/RL-HW7/HC ROMS/BY ALPHABET/S-Z/Stargunner.bin to /usr/local/lib/python3.7/dist-packages/atari_py/atari_roms/star_gunner.bin\n",
            "copying trondead.bin from /content/drive/MyDrive/RL-HW7/HC ROMS/BY ALPHABET/S-Z/TRON - Deadly Discs.bin to /usr/local/lib/python3.7/dist-packages/atari_py/atari_roms/trondead.bin\n",
            "copying space_invaders.bin from /content/drive/MyDrive/RL-HW7/HC ROMS/BY ALPHABET/S-Z/Space Invaders.bin to /usr/local/lib/python3.7/dist-packages/atari_py/atari_roms/space_invaders.bin\n",
            "copying video_pinball.bin from /content/drive/MyDrive/RL-HW7/HC ROMS/BY ALPHABET/S-Z/Video Pinball - Arcade Pinball.bin to /usr/local/lib/python3.7/dist-packages/atari_py/atari_roms/video_pinball.bin\n",
            "copying surround.bin from /content/drive/MyDrive/RL-HW7/HC ROMS/BY ALPHABET/S-Z/Surround - Chase.bin to /usr/local/lib/python3.7/dist-packages/atari_py/atari_roms/surround.bin\n",
            "copying seaquest.bin from /content/drive/MyDrive/RL-HW7/HC ROMS/BY ALPHABET/S-Z/Seaquest.bin to /usr/local/lib/python3.7/dist-packages/atari_py/atari_roms/seaquest.bin\n",
            "copying solaris.bin from /content/drive/MyDrive/RL-HW7/HC ROMS/BY ALPHABET/S-Z/Solaris.bin to /usr/local/lib/python3.7/dist-packages/atari_py/atari_roms/solaris.bin\n",
            "copying venture.bin from /content/drive/MyDrive/RL-HW7/HC ROMS/BY ALPHABET/S-Z/Venture.bin to /usr/local/lib/python3.7/dist-packages/atari_py/atari_roms/venture.bin\n",
            "copying yars_revenge.bin from /content/drive/MyDrive/RL-HW7/HC ROMS/BY ALPHABET/S-Z/Yars' Revenge.bin to /usr/local/lib/python3.7/dist-packages/atari_py/atari_roms/yars_revenge.bin\n",
            "copying time_pilot.bin from /content/drive/MyDrive/RL-HW7/HC ROMS/BY ALPHABET/S-Z/Time Pilot.bin to /usr/local/lib/python3.7/dist-packages/atari_py/atari_roms/time_pilot.bin\n",
            "copying zaxxon.bin from /content/drive/MyDrive/RL-HW7/HC ROMS/BY ALPHABET/S-Z/Zaxxon.bin to /usr/local/lib/python3.7/dist-packages/atari_py/atari_roms/zaxxon.bin\n",
            "copying wizard_of_wor.bin from /content/drive/MyDrive/RL-HW7/HC ROMS/BY ALPHABET/S-Z/Wizard of Wor.bin to /usr/local/lib/python3.7/dist-packages/atari_py/atari_roms/wizard_of_wor.bin\n",
            "copying tutankham.bin from /content/drive/MyDrive/RL-HW7/HC ROMS/BY ALPHABET/S-Z/Tutankham.bin to /usr/local/lib/python3.7/dist-packages/atari_py/atari_roms/tutankham.bin\n",
            "copying pong.bin from /content/drive/MyDrive/RL-HW7/HC ROMS/BY ALPHABET/S-Z/Video Olympics - Pong Sports.bin to /usr/local/lib/python3.7/dist-packages/atari_py/atari_roms/pong.bin\n",
            "copying adventure.bin from /content/drive/MyDrive/RL-HW7/HC ROMS/BY ALPHABET (PAL)/A-G/Adventure (PAL).bin to /usr/local/lib/python3.7/dist-packages/atari_py/atari_roms/adventure.bin\n",
            "copying sir_lancelot.bin from /content/drive/MyDrive/RL-HW7/HC ROMS/BY ALPHABET (PAL)/S-Z/Sir Lancelot (PAL).bin to /usr/local/lib/python3.7/dist-packages/atari_py/atari_roms/sir_lancelot.bin\n",
            "copying pacman.bin from /content/drive/MyDrive/RL-HW7/HC ROMS/BY ALPHABET (PAL)/H-R/Pac-Man (PAL).bin to /usr/local/lib/python3.7/dist-packages/atari_py/atari_roms/pacman.bin\n",
            "copying keystone_kapers.bin from /content/drive/MyDrive/RL-HW7/HC ROMS/BY ALPHABET (PAL)/H-R/Keystone Kapers (PAL).bin to /usr/local/lib/python3.7/dist-packages/atari_py/atari_roms/keystone_kapers.bin\n",
            "copying king_kong.bin from /content/drive/MyDrive/RL-HW7/HC ROMS/BY ALPHABET (PAL)/H-R/King Kong (PAL).bin to /usr/local/lib/python3.7/dist-packages/atari_py/atari_roms/king_kong.bin\n",
            "copying laser_gates.bin from /content/drive/MyDrive/RL-HW7/HC ROMS/BY ALPHABET (PAL)/H-R/Laser Gates (PAL).bin to /usr/local/lib/python3.7/dist-packages/atari_py/atari_roms/laser_gates.bin\n",
            "copying mr_do.bin from /content/drive/MyDrive/RL-HW7/HC ROMS/BY ALPHABET (PAL)/H-R/Mr. Do! (PAL).bin to /usr/local/lib/python3.7/dist-packages/atari_py/atari_roms/mr_do.bin\n",
            "copying assault.bin from /content/drive/MyDrive/RL-HW7/HC ROMS/NTSC VERSIONS OF PAL ORIGINALS/Assault (AKA Sky Alien) (1983) (Bomb - Onbase) (CA281).bin to /usr/local/lib/python3.7/dist-packages/atari_py/atari_roms/assault.bin\n",
            "copying asterix.bin from /content/drive/MyDrive/RL-HW7/ROMS/Asterix (AKA Taz) (1984) (Atari, Jerome Domurat, Steve Woita) (CX2696).bin to /usr/local/lib/python3.7/dist-packages/atari_py/atari_roms/asterix.bin\n"
          ]
        }
      ]
    },
    {
      "cell_type": "markdown",
      "source": [
        "Experiments with the environment"
      ],
      "metadata": {
        "id": "qYHi7vUHiYOo"
      }
    },
    {
      "cell_type": "code",
      "source": [
        "DEVICE = torch.device(\"cuda\" if torch.cuda.is_available() else \"cpu\")\n"
      ],
      "metadata": {
        "id": "Q048kRG2ihsQ"
      },
      "execution_count": null,
      "outputs": []
    },
    {
      "cell_type": "code",
      "source": [
        "ENVIRONMENT = \"PongDeterministic-v4\""
      ],
      "metadata": {
        "id": "j_tXSWZ2ia6S"
      },
      "execution_count": null,
      "outputs": []
    },
    {
      "cell_type": "code",
      "source": [
        "env = gym.make(ENVIRONMENT)\n",
        "obs = env.reset()\n",
        "plt.imshow(env.render(mode='rgb_array'), aspect='auto')\n",
        "plt.show()"
      ],
      "metadata": {
        "colab": {
          "base_uri": "https://localhost:8080/",
          "height": 268
        },
        "id": "aGdQawKGi1U-",
        "outputId": "0786b812-2d33-4223-b8a0-0d4003f9f9b7"
      },
      "execution_count": null,
      "outputs": [
        {
          "output_type": "display_data",
          "data": {
            "text/plain": [
              "<Figure size 432x288 with 1 Axes>"
            ],
            "image/png": "[encoded data removed]"
          },
          "metadata": {
            "needs_background": "light"
          }
        }
      ]
    },
    {
      "cell_type": "code",
      "source": [
        "env = gym.make(ENVIRONMENT)\n",
        "env.seed(2022)\n",
        "obs = env.reset()\n",
        "\n",
        "a = env.action_space.sample()\n",
        "for i in range(5000):\n",
        "    a = env.action_space.sample()\n",
        "    observation, reward, done, info = env.step(a)\n",
        "    if (i + 1) % 5 == 0:\n",
        "        clear_output(True)\n",
        "        screen = env.render(mode='rgb_array')\n",
        "        plt.imshow(screen, aspect='auto')\n",
        "        plt.show()\n",
        "    if done:\n",
        "        break"
      ],
      "metadata": {
        "colab": {
          "base_uri": "https://localhost:8080/",
          "height": 268
        },
        "id": "uFM7lssSi4i1",
        "outputId": "97e3eac1-b27c-4ade-fa1d-efa58e8d7a1c"
      },
      "execution_count": null,
      "outputs": [
        {
          "output_type": "display_data",
          "data": {
            "text/plain": [
              "<Figure size 432x288 with 1 Axes>"
            ],
            "image/png": "[encoded data removed]"
          },
          "metadata": {
            "needs_background": "light"
          }
        }
      ]
    },
    {
      "cell_type": "code",
      "source": [
        "environment = gym.make(ENVIRONMENT)\n",
        "print(\"environment observation\", environment.observation_space)\n",
        "print(\"environment action space\", environment.action_space)\n",
        "environment.reset()\n",
        "print(\"next state, reward, done\", environment.step( environment.action_space.sample()))"
      ],
      "metadata": {
        "colab": {
          "base_uri": "https://localhost:8080/"
        },
        "id": "SX9GCv8Bl4Kf",
        "outputId": "df6647e5-ba86-44f3-a848-a87bab773643"
      },
      "execution_count": null,
      "outputs": [
        {
          "output_type": "stream",
          "name": "stdout",
          "text": [
            "environment observation Box(0, 255, (210, 160, 3), uint8)\n",
            "environment action space Discrete(6)\n",
            " (array([[[  0,   0,   0],\n",
            "        [  0,   0,   0],\n",
            "        [  0,   0,   0],\n",
            "        ...,\n",
            "        [144,  72,  17],\n",
            "        [144,  72,  17],\n",
            "        [144,  72,  17]],\n",
            "\n",
            "       [[144,  72,  17],\n",
            "        [144,  72,  17],\n",
            "        [144,  72,  17],\n",
            "        ...,\n",
            "        [144,  72,  17],\n",
            "        [144,  72,  17],\n",
            "        [144,  72,  17]],\n",
            "\n",
            "       [[144,  72,  17],\n",
            "        [144,  72,  17],\n",
            "        [144,  72,  17],\n",
            "        ...,\n",
            "        [144,  72,  17],\n",
            "        [144,  72,  17],\n",
            "        [144,  72,  17]],\n",
            "\n",
            "       ...,\n",
            "\n",
            "       [[236, 236, 236],\n",
            "        [236, 236, 236],\n",
            "        [236, 236, 236],\n",
            "        ...,\n",
            "        [236, 236, 236],\n",
            "        [236, 236, 236],\n",
            "        [236, 236, 236]],\n",
            "\n",
            "       [[236, 236, 236],\n",
            "        [236, 236, 236],\n",
            "        [236, 236, 236],\n",
            "        ...,\n",
            "        [236, 236, 236],\n",
            "        [236, 236, 236],\n",
            "        [236, 236, 236]],\n",
            "\n",
            "       [[236, 236, 236],\n",
            "        [236, 236, 236],\n",
            "        [236, 236, 236],\n",
            "        ...,\n",
            "        [236, 236, 236],\n",
            "        [236, 236, 236],\n",
            "        [236, 236, 236]]], dtype=uint8), 0.0, False, {'ale.lives': 0})\n"
          ]
        }
      ]
    },
    {
      "cell_type": "markdown",
      "source": [
        "feel free to do more experiments with the environment."
      ],
      "metadata": {
        "id": "kbBRKaYkohWg"
      }
    },
    {
      "cell_type": "markdown",
      "source": [
        "# Hyperparameters"
      ],
      "metadata": {
        "id": "9sLt799aVo7h"
      }
    },
    {
      "cell_type": "markdown",
      "source": [
        "There are some parameters for your implementation. Feel free to change them."
      ],
      "metadata": {
        "id": "P0kq3RMMVeIT"
      }
    },
    {
      "cell_type": "code",
      "source": [
        "\n",
        "SAVE_MODELS = True  # Save models to file so you can test later\n",
        "MODEL_PATH = \"./pong-cnn-\"  # Models path for saving or loading\n",
        "SAVE_MODEL_INTERVAL = 10  # Save models at every X epoch\n",
        "TRAIN_MODEL = True  # Train model while playing (Make it False when testing a model)\n",
        "\n",
        "LOAD_MODEL_FROM_FILE = False  # Load model from file\n",
        "LOAD_FILE_EPISODE = 0  # Load Xth episode from file\n",
        "\n",
        "BATCH_SIZE = 64  # Minibatch size that select randomly from mem for train nets\n",
        "MAX_EPISODE = 100000  # Max episode\n",
        "MAX_STEP = 100000  # Max step size for one episode\n",
        "\n",
        "MAX_MEMORY_LEN = 50000  # Max memory len\n",
        "MIN_MEMORY_LEN = 40000  # Min memory len before start train\n",
        "\n",
        "GAMMA = 0.97  # Discount rate\n",
        "ALPHA = 0.00025  # Learning rate\n",
        "EPSILON_DECAY = 0.99  # Epsilon decay rate by step\n",
        "\n",
        "RENDER_GAME_WINDOW = False  # Opens a new window to render the game (Won't work on colab default)"
      ],
      "metadata": {
        "id": "tUrUoQF3K8yz"
      },
      "execution_count": null,
      "outputs": []
    },
    {
      "cell_type": "markdown",
      "source": [
        "# Image proccessing "
      ],
      "metadata": {
        "id": "FL88xi4CVspF"
      }
    },
    {
      "cell_type": "markdown",
      "source": [
        "Here you are asked to perform some preprocessing for input and outputs.\n",
        "You are free to implement CNN. Here is the recommended network [DuelCNN](https://arxiv.org/abs/1511.06581) which a specialized network for RL tasks."
      ],
      "metadata": {
        "id": "27bwT15lkGIH"
      }
    },
    {
      "cell_type": "markdown",
      "source": [
        "![image.png](data:image/png;base64,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)"
      ],
      "metadata": {
        "id": "tdxOilduD31l"
      }
    },
    {
      "cell_type": "markdown",
      "source": [
        "A popular single stream Q-network (top) and the dueling Q-network (bottom). The dueling network has two streams\n",
        "to separately estimate (scalar) state-value and the advantages for\n",
        "each action; the green output module implements equation (9)(of the original paper) to\n",
        "combine them. Both networks output Q-values for each action."
      ],
      "metadata": {
        "id": "mFVZWoegC3lH"
      }
    },
    {
      "cell_type": "code",
      "source": [
        "class DuelCNN(nn.Module):\n",
        "  \n",
        "    def __init__(self, h, w, output_size):\n",
        "        super(DuelCNN, self).__init__()\n",
        "        self.conv1 = nn.Conv2d(in_channels=4,  out_channels=32, kernel_size=8, stride=4)\n",
        "        self.bn1 = nn.BatchNorm2d(32)\n",
        "        convw, convh = self.conv2d_size_calc(w, h, kernel_size=8, stride=4)\n",
        "        self.conv2 = nn.Conv2d(in_channels=32, out_channels=64, kernel_size=4, stride=2)\n",
        "        self.bn2 = nn.BatchNorm2d(64)\n",
        "        convw, convh = self.conv2d_size_calc(convw, convh, kernel_size=4, stride=2)\n",
        "        self.conv3 = nn.Conv2d(in_channels=64, out_channels=64, kernel_size=3, stride=1)\n",
        "        self.bn3 = nn.BatchNorm2d(64)\n",
        "        convw, convh = self.conv2d_size_calc(convw, convh, kernel_size=3, stride=1)\n",
        "\n",
        "        linear_input_size = convw * convh * 64  # Last conv layer's out sizes\n",
        "\n",
        "        # Action layer\n",
        "        self.Alinear1 = nn.Linear(in_features=linear_input_size, out_features=128)\n",
        "        self.Alrelu = nn.LeakyReLU()  # Linear 1 activation funct\n",
        "        self.Alinear2 = nn.Linear(in_features=128, out_features=output_size)\n",
        "\n",
        "        # State Value layer\n",
        "        self.Vlinear1 = nn.Linear(in_features=linear_input_size, out_features=128)\n",
        "        self.Vlrelu = nn.LeakyReLU()  # Linear 1 activation funct\n",
        "        self.Vlinear2 = nn.Linear(in_features=128, out_features=1)  # Only 1 node\n",
        "\n",
        "    def conv2d_size_calc(self, w, h, kernel_size=5, stride=2):\n",
        "        \"\"\"\n",
        "        Calcs conv layers output image sizes\n",
        "        \"\"\"\n",
        "        next_w = (w - (kernel_size - 1) - 1) // stride + 1\n",
        "        next_h = (h - (kernel_size - 1) - 1) // stride + 1\n",
        "        return next_w, next_h\n",
        "\n",
        "    def forward(self, x):\n",
        "        x = F.relu(self.bn1(self.conv1(x)))\n",
        "        x = F.relu(self.bn2(self.conv2(x)))\n",
        "        x = F.relu(self.bn3(self.conv3(x)))\n",
        "\n",
        "        x = x.view(x.size(0), -1)  # Flatten every batch\n",
        "\n",
        "        Ax = self.Alrelu(self.Alinear1(x))\n",
        "        Ax = self.Alinear2(Ax)  # No activation on last layer\n",
        "\n",
        "        Vx = self.Vlrelu(self.Vlinear1(x))\n",
        "        Vx = self.Vlinear2(Vx)  # No activation on last layer\n",
        "\n",
        "        q = Vx + (Ax - Ax.mean())\n",
        "\n",
        "        return q"
      ],
      "metadata": {
        "id": "lh5QRINuLJlz"
      },
      "execution_count": null,
      "outputs": []
    },
    {
      "cell_type": "markdown",
      "source": [
        "# DoubleDQN Agent (DDQN)"
      ],
      "metadata": {
        "id": "CWaVrECBnY2H"
      }
    },
    {
      "cell_type": "markdown",
      "source": [
        "Below you are asked to implement a DDQN agent. "
      ],
      "metadata": {
        "id": "f7xiFB83rZB1"
      }
    },
    {
      "cell_type": "code",
      "source": [
        "class Agent:\n",
        "    def __init__(self, environment):\n",
        "        \"\"\"\n",
        "        Hyperparameters definition for Agent\n",
        "        \"\"\"\n",
        "        # State size for breakout env. SS images (210, 160, 3). Used as input size in network\n",
        "        self.state_size_h = environment.observation_space.shape[0]\n",
        "        self.state_size_w = environment.observation_space.shape[1]\n",
        "        self.state_size_c = environment.observation_space.shape[2]\n",
        "\n",
        "        # Activation size for breakout env. Used as output size in network\n",
        "        self.action_size = environment.action_space.n\n",
        "\n",
        "        # Image pre process params\n",
        "        self.target_h = 80  # Height after process\n",
        "        self.target_w = 64  # Widht after process\n",
        "\n",
        "        self.crop_dim = [20, self.state_size_h, 0, self.state_size_w]  # Cut 20 px from top to get rid of the score table\n",
        "\n",
        "        # Trust rate to our experiences\n",
        "        self.gamma = GAMMA  # Discount coef for future predictions\n",
        "        self.alpha = ALPHA  # Learning Rate\n",
        "\n",
        "        # After many experinces epsilon will be 0.05\n",
        "        # So we will do less Explore more Exploit\n",
        "        self.epsilon = 1  # Explore or Exploit\n",
        "        self.epsilon_decay = EPSILON_DECAY  # Adaptive Epsilon Decay Rate\n",
        "        self.epsilon_minimum = 0.05  # Minimum for Explore\n",
        "\n",
        "        # Deque holds replay mem.\n",
        "        self.memory = deque(maxlen=MAX_MEMORY_LEN)\n",
        "\n",
        "        # Create two model for DDQN algorithm\n",
        "        self.online_model = DuelCNN(h=self.target_h, w=self.target_w, output_size=self.action_size).to(DEVICE)\n",
        "        self.target_model = DuelCNN(h=self.target_h, w=self.target_w, output_size=self.action_size).to(DEVICE)\n",
        "        self.target_model.load_state_dict(self.online_model.state_dict())\n",
        "        self.target_model.eval()\n",
        "\n",
        "        # Adam used as optimizer\n",
        "        self.optimizer = optim.Adam(self.online_model.parameters(), lr=self.alpha)\n",
        "\n",
        "    def preProcess(self, image):\n",
        "        \"\"\"\n",
        "        Process image crop resize, grayscale and normalize the images\n",
        "        \"\"\"\n",
        "        frame = cv2.cvtColor(image, cv2.COLOR_BGR2GRAY)  # To grayscale\n",
        "        frame = frame[self.crop_dim[0]:self.crop_dim[1], self.crop_dim[2]:self.crop_dim[3]]  # Cut 20 px from top\n",
        "        frame = cv2.resize(frame, (self.target_w, self.target_h))  # Resize\n",
        "        frame = frame.reshape(self.target_w, self.target_h) / 255  # Normalize\n",
        "\n",
        "        return frame\n",
        "\n",
        "    def act(self, state):\n",
        "        \"\"\"\n",
        "        Get state and do action\n",
        "        Two option can be selectedd if explore select random action\n",
        "        if exploit ask nnet for action\n",
        "        use epsilon greedy algorithm\n",
        "        \"\"\"\n",
        "\n",
        "        act_protocol = 'Explore' if random.uniform(0, 1) <= self.epsilon else 'Exploit'\n",
        "\n",
        "        if act_protocol == 'Explore':\n",
        "            action = random.randrange(self.action_size)\n",
        "        else:\n",
        "            with torch.no_grad():\n",
        "                state = torch.tensor(state, dtype=torch.float, device=DEVICE).unsqueeze(0)\n",
        "                q_values = self.online_model.forward(state)  # (1, action_size)\n",
        "                action = torch.argmax(q_values).item()  # Returns the indices of the maximum value of all elements\n",
        "\n",
        "        return action\n",
        "\n",
        "    def train(self):\n",
        "        \"\"\"\n",
        "        Train neural nets with replay memory\n",
        "        returns loss and max_q val predicted from online_net\n",
        "        \"\"\"\n",
        "        if len(agent.memory) < MIN_MEMORY_LEN:\n",
        "            loss, max_q = [0, 0]\n",
        "            return loss, max_q\n",
        "        # We get out minibatch and turn it to numpy array\n",
        "        state, action, reward, next_state, done = zip(*random.sample(self.memory, BATCH_SIZE))\n",
        "\n",
        "        # Concat batches in one array\n",
        "        # (np.arr, np.arr) ==> np.BIGarr\n",
        "        state = np.concatenate(state)\n",
        "        next_state = np.concatenate(next_state)\n",
        "\n",
        "        # Convert them to tensors\n",
        "        state = torch.tensor(state, dtype=torch.float, device=DEVICE)\n",
        "        next_state = torch.tensor(next_state, dtype=torch.float, device=DEVICE)\n",
        "        action = torch.tensor(action, dtype=torch.long, device=DEVICE)\n",
        "        reward = torch.tensor(reward, dtype=torch.float, device=DEVICE)\n",
        "        done = torch.tensor(done, dtype=torch.float, device=DEVICE)\n",
        "\n",
        "        # Make predictions\n",
        "        state_q_values = self.online_model(state)\n",
        "        next_states_q_values = self.online_model(next_state)\n",
        "        next_states_target_q_values = self.target_model(next_state)\n",
        "\n",
        "        # Find selected action's q_value\n",
        "        selected_q_value = state_q_values.gather(1, action.unsqueeze(1)).squeeze(1)\n",
        "        # Get indice of the max value of next_states_q_values\n",
        "        # Use that indice to get a q_value from next_states_target_q_values\n",
        "        # We use greedy for policy So it called off-policy\n",
        "        next_states_target_q_value = next_states_target_q_values.gather(1, next_states_q_values.max(1)[1].unsqueeze(1)).squeeze(1)\n",
        "        # Use Bellman function to find expected q value\n",
        "        expected_q_value = reward + self.gamma * next_states_target_q_value * (1 - done)\n",
        "\n",
        "        # Calc loss with expected_q_value and q_value\n",
        "        loss = (selected_q_value - expected_q_value.detach()).pow(2).mean()\n",
        "\n",
        "        self.optimizer.zero_grad()\n",
        "        loss.backward()\n",
        "        self.optimizer.step()\n",
        "\n",
        "        return loss, torch.max(state_q_values).item()\n",
        "\n",
        "    def storeResults(self, state, action, reward, nextState, done):\n",
        "        \"\"\"\n",
        "        Store every result to memory\n",
        "        \"\"\"\n",
        "        self.memory.append([state[None, :], action, reward, nextState[None, :], done])\n",
        "\n",
        "    def adaptiveEpsilon(self):\n",
        "        \"\"\"\n",
        "        Adaptive Epsilon means every step\n",
        "        we decrease the epsilon so we do less Explore\n",
        "        \"\"\"\n",
        "        if self.epsilon > self.epsilon_minimum:\n",
        "            self.epsilon *= self.epsilon_decay"
      ],
      "metadata": {
        "id": "Uw_unBUOLKhX"
      },
      "execution_count": null,
      "outputs": []
    },
    {
      "cell_type": "markdown",
      "source": [
        "# Learning loop"
      ],
      "metadata": {
        "id": "xBilR1UPnT6b"
      }
    },
    {
      "cell_type": "code",
      "source": [
        "environment = gym.make(ENVIRONMENT)  # Get env\n",
        "agent = Agent(environment)  # Create Agent\n",
        "\n",
        "if LOAD_MODEL_FROM_FILE:\n",
        "    agent.online_model.load_state_dict(torch.load(MODEL_PATH+str(LOAD_FILE_EPISODE)+\".pkl\"))\n",
        "\n",
        "    with open(MODEL_PATH+str(LOAD_FILE_EPISODE)+'.json') as outfile:\n",
        "        param = json.load(outfile)\n",
        "        agent.epsilon = param.get('epsilon')\n",
        "\n",
        "    startEpisode = LOAD_FILE_EPISODE + 1\n",
        "\n",
        "else:\n",
        "    startEpisode = 1\n",
        "\n",
        "last_100_ep_reward = deque(maxlen=100)  # Last 100 episode rewards\n",
        "total_step = 1  # Cumulkative sum of all steps in episodes\n",
        "for episode in range(startEpisode, MAX_EPISODE):\n",
        "\n",
        "    startTime = time.time()  # Keep time\n",
        "    state = environment.reset()  # Reset env\n",
        "\n",
        "    state = agent.preProcess(state)  # Process image\n",
        "\n",
        "    # Stack state . Every state contains 4 time contionusly frames\n",
        "    # We stack frames like 4 channel image\n",
        "    state = np.stack((state, state, state, state))\n",
        "\n",
        "    total_max_q_val = 0  # Total max q vals\n",
        "    total_reward = 0  # Total reward for each episode\n",
        "    total_loss = 0  # Total loss for each episode\n",
        "    for step in range(MAX_STEP):\n",
        "\n",
        "        if RENDER_GAME_WINDOW:\n",
        "            plt.imshow(env.render(mode='rgb_array'), aspect='auto')\n",
        "            plt.show()  # Show state visually\n",
        "\n",
        "        # Select and perform an action\n",
        "        action = agent.act(state)  # Act\n",
        "        next_state, reward, done, info = environment.step(action)  # Observe\n",
        "\n",
        "        next_state = agent.preProcess(next_state)  # Process image\n",
        "\n",
        "        # Stack state . Every state contains 4 time contionusly frames\n",
        "        # We stack frames like 4 channel image\n",
        "        next_state = np.stack((next_state, state[0], state[1], state[2]))\n",
        "\n",
        "        # Store the transition in memory\n",
        "        agent.storeResults(state, action, reward, next_state, done)  # Store to mem\n",
        "\n",
        "        # Move to the next state\n",
        "        state = next_state  # Update state\n",
        "\n",
        "        if TRAIN_MODEL:\n",
        "            # Perform one step of the optimization (on the target network)\n",
        "            loss, max_q_val = agent.train()  # Train with random BATCH_SIZE state taken from mem\n",
        "        else:\n",
        "            loss, max_q_val = [0, 0]\n",
        "\n",
        "        total_loss += loss\n",
        "        total_max_q_val += max_q_val\n",
        "        total_reward += reward\n",
        "        total_step += 1\n",
        "        if total_step % 1000 == 0:\n",
        "            agent.adaptiveEpsilon()  # Decrase epsilon\n",
        "\n",
        "        if done:  # Episode completed\n",
        "            currentTime = time.time()  # Keep current time\n",
        "            time_passed = currentTime - startTime  # Find episode duration\n",
        "            current_time_format = time.strftime(\"%H:%M:%S\", time.gmtime())  # Get current dateTime as HH:MM:SS\n",
        "            epsilonDict = {'epsilon': agent.epsilon}  # Create epsilon dict to save model as file\n",
        "\n",
        "            if SAVE_MODELS and episode % SAVE_MODEL_INTERVAL == 0:  # Save model as file\n",
        "                weightsPath = MODEL_PATH + str(episode) + '.pkl'\n",
        "                epsilonPath = MODEL_PATH + str(episode) + '.json'\n",
        "\n",
        "                torch.save(agent.online_model.state_dict(), weightsPath)\n",
        "                with open(epsilonPath, 'w') as outfile:\n",
        "                    json.dump(epsilonDict, outfile)\n",
        "\n",
        "            if TRAIN_MODEL:\n",
        "                agent.target_model.load_state_dict(agent.online_model.state_dict())  # Update target model\n",
        "\n",
        "            last_100_ep_reward.append(total_reward)\n",
        "            avg_max_q_val = total_max_q_val / step\n",
        "\n",
        "            outStr = \"Episode:{} Time:{} Reward:{:.2f} Loss:{:.2f} Last_100_Avg_Rew:{:.3f} Avg_Max_Q:{:.3f} Epsilon:{:.2f} Duration:{:.2f} Step:{} CStep:{}\".format(\n",
        "                episode, current_time_format, total_reward, total_loss, np.mean(last_100_ep_reward), avg_max_q_val, agent.epsilon, time_passed, step, total_step\n",
        "            )\n",
        "\n",
        "            print(outStr)\n",
        "\n",
        "            if SAVE_MODELS:\n",
        "                outputPath = MODEL_PATH + \"out\" + '.txt'  # Save outStr to file\n",
        "                with open(outputPath, 'a') as outfile:\n",
        "                    outfile.write(outStr+\"\\n\")\n",
        "\n",
        "            break"
      ],
      "metadata": {
        "colab": {
          "base_uri": "https://localhost:8080/",
          "height": 1000
        },
        "id": "yzYVlaOxLQIl",
        "outputId": "31ac81ce-7dd4-4001-8b4b-ee01d98283e6"
      },
      "execution_count": null,
      "outputs": [
        {
          "output_type": "stream",
          "name": "stdout",
          "text": [
            "Episode:1 Time:09:55:24 Reward:-21.00 Loss:0.00 Last_100_Avg_Rew:-21.000 Avg_Max_Q:0.000 Epsilon:0.99 Duration:0.82 Step:1001 CStep:1003\n",
            "Episode:2 Time:09:55:25 Reward:-21.00 Loss:0.00 Last_100_Avg_Rew:-21.000 Avg_Max_Q:0.000 Epsilon:0.99 Duration:1.19 Step:911 CStep:1915\n",
            "Episode:3 Time:09:55:26 Reward:-21.00 Loss:0.00 Last_100_Avg_Rew:-21.000 Avg_Max_Q:0.000 Epsilon:0.98 Duration:0.70 Step:851 CStep:2767\n",
            "Episode:4 Time:09:55:26 Reward:-21.00 Loss:0.00 Last_100_Avg_Rew:-21.000 Avg_Max_Q:0.000 Epsilon:0.97 Duration:0.72 Step:872 CStep:3640\n",
            "Episode:5 Time:09:55:27 Reward:-20.00 Loss:0.00 Last_100_Avg_Rew:-20.800 Avg_Max_Q:0.000 Epsilon:0.96 Duration:0.96 Step:1149 CStep:4790\n",
            "Episode:6 Time:09:55:28 Reward:-20.00 Loss:0.00 Last_100_Avg_Rew:-20.667 Avg_Max_Q:0.000 Epsilon:0.95 Duration:0.71 Step:837 CStep:5628\n",
            "Episode:7 Time:09:55:29 Reward:-20.00 Loss:0.00 Last_100_Avg_Rew:-20.571 Avg_Max_Q:0.000 Epsilon:0.94 Duration:0.80 Step:962 CStep:6591\n",
            "Episode:8 Time:09:55:30 Reward:-20.00 Loss:0.00 Last_100_Avg_Rew:-20.500 Avg_Max_Q:0.000 Epsilon:0.93 Duration:0.75 Step:877 CStep:7469\n",
            "Episode:9 Time:09:55:30 Reward:-21.00 Loss:0.00 Last_100_Avg_Rew:-20.556 Avg_Max_Q:0.000 Epsilon:0.92 Duration:0.69 Step:763 CStep:8233\n",
            "Episode:10 Time:09:55:31 Reward:-20.00 Loss:0.00 Last_100_Avg_Rew:-20.500 Avg_Max_Q:0.000 Epsilon:0.91 Duration:0.88 Step:976 CStep:9210\n",
            "Episode:11 Time:09:55:32 Reward:-21.00 Loss:0.00 Last_100_Avg_Rew:-20.545 Avg_Max_Q:0.000 Epsilon:0.91 Duration:0.68 Step:763 CStep:9974\n",
            "Episode:12 Time:09:55:33 Reward:-19.00 Loss:0.00 Last_100_Avg_Rew:-20.417 Avg_Max_Q:0.000 Epsilon:0.90 Duration:0.90 Step:978 CStep:10953\n",
            "Episode:13 Time:09:55:33 Reward:-21.00 Loss:0.00 Last_100_Avg_Rew:-20.462 Avg_Max_Q:0.000 Epsilon:0.90 Duration:0.70 Step:763 CStep:11717\n",
            "Episode:14 Time:09:55:34 Reward:-21.00 Loss:0.00 Last_100_Avg_Rew:-20.500 Avg_Max_Q:0.000 Epsilon:0.89 Duration:0.70 Step:763 CStep:12481\n",
            "Episode:15 Time:09:55:35 Reward:-21.00 Loss:0.00 Last_100_Avg_Rew:-20.533 Avg_Max_Q:0.000 Epsilon:0.88 Duration:0.84 Step:904 CStep:13386\n",
            "Episode:16 Time:09:55:36 Reward:-19.00 Loss:0.00 Last_100_Avg_Rew:-20.438 Avg_Max_Q:0.000 Epsilon:0.87 Duration:0.91 Step:916 CStep:14303\n",
            "Episode:17 Time:09:55:37 Reward:-21.00 Loss:0.00 Last_100_Avg_Rew:-20.471 Avg_Max_Q:0.000 Epsilon:0.86 Duration:1.10 Step:791 CStep:15095\n",
            "Episode:18 Time:09:55:38 Reward:-21.00 Loss:0.00 Last_100_Avg_Rew:-20.500 Avg_Max_Q:0.000 Epsilon:0.86 Duration:1.22 Step:791 CStep:15887\n",
            "Episode:19 Time:09:55:39 Reward:-21.00 Loss:0.00 Last_100_Avg_Rew:-20.526 Avg_Max_Q:0.000 Epsilon:0.85 Duration:1.11 Step:763 CStep:16651\n",
            "Episode:20 Time:09:55:40 Reward:-21.00 Loss:0.00 Last_100_Avg_Rew:-20.550 Avg_Max_Q:0.000 Epsilon:0.84 Duration:0.78 Step:791 CStep:17443\n",
            "Episode:21 Time:09:55:41 Reward:-21.00 Loss:0.00 Last_100_Avg_Rew:-20.571 Avg_Max_Q:0.000 Epsilon:0.83 Duration:0.91 Step:883 CStep:18327\n",
            "Episode:22 Time:09:55:42 Reward:-21.00 Loss:0.00 Last_100_Avg_Rew:-20.591 Avg_Max_Q:0.000 Epsilon:0.83 Duration:0.82 Step:851 CStep:19179\n",
            "Episode:23 Time:09:55:43 Reward:-21.00 Loss:0.00 Last_100_Avg_Rew:-20.609 Avg_Max_Q:0.000 Epsilon:0.83 Duration:0.83 Step:763 CStep:19943\n",
            "Episode:24 Time:09:55:44 Reward:-21.00 Loss:0.00 Last_100_Avg_Rew:-20.625 Avg_Max_Q:0.000 Epsilon:0.82 Duration:0.82 Step:763 CStep:20707\n",
            "Episode:25 Time:09:55:44 Reward:-21.00 Loss:0.00 Last_100_Avg_Rew:-20.640 Avg_Max_Q:0.000 Epsilon:0.81 Duration:0.84 Step:851 CStep:21559\n",
            "Episode:26 Time:09:55:45 Reward:-21.00 Loss:0.00 Last_100_Avg_Rew:-20.654 Avg_Max_Q:0.000 Epsilon:0.80 Duration:0.80 Step:763 CStep:22323\n",
            "Episode:27 Time:09:55:46 Reward:-20.00 Loss:0.00 Last_100_Avg_Rew:-20.630 Avg_Max_Q:0.000 Epsilon:0.79 Duration:0.90 Step:866 CStep:23190\n",
            "Episode:28 Time:09:55:47 Reward:-19.00 Loss:0.00 Last_100_Avg_Rew:-20.571 Avg_Max_Q:0.000 Epsilon:0.79 Duration:0.93 Step:937 CStep:24128\n",
            "Episode:29 Time:09:55:48 Reward:-21.00 Loss:0.00 Last_100_Avg_Rew:-20.586 Avg_Max_Q:0.000 Epsilon:0.79 Duration:0.83 Step:791 CStep:24920\n",
            "Episode:30 Time:09:55:49 Reward:-21.00 Loss:0.00 Last_100_Avg_Rew:-20.600 Avg_Max_Q:0.000 Epsilon:0.78 Duration:0.81 Step:763 CStep:25684\n",
            "Episode:31 Time:09:55:50 Reward:-21.00 Loss:0.00 Last_100_Avg_Rew:-20.613 Avg_Max_Q:0.000 Epsilon:0.77 Duration:0.84 Step:763 CStep:26448\n",
            "Episode:32 Time:09:55:50 Reward:-21.00 Loss:0.00 Last_100_Avg_Rew:-20.625 Avg_Max_Q:0.000 Epsilon:0.76 Duration:0.84 Step:763 CStep:27212\n",
            "Episode:33 Time:09:55:51 Reward:-21.00 Loss:0.00 Last_100_Avg_Rew:-20.636 Avg_Max_Q:0.000 Epsilon:0.76 Duration:0.81 Step:763 CStep:27976\n",
            "Episode:34 Time:09:55:52 Reward:-21.00 Loss:0.00 Last_100_Avg_Rew:-20.647 Avg_Max_Q:0.000 Epsilon:0.75 Duration:0.83 Step:763 CStep:28740\n",
            "Episode:35 Time:09:55:53 Reward:-21.00 Loss:0.00 Last_100_Avg_Rew:-20.657 Avg_Max_Q:0.000 Epsilon:0.75 Duration:0.89 Step:763 CStep:29504\n",
            "Episode:36 Time:09:55:54 Reward:-21.00 Loss:0.00 Last_100_Avg_Rew:-20.667 Avg_Max_Q:0.000 Epsilon:0.74 Duration:0.83 Step:763 CStep:30268\n",
            "Episode:37 Time:09:55:55 Reward:-21.00 Loss:0.00 Last_100_Avg_Rew:-20.676 Avg_Max_Q:0.000 Epsilon:0.73 Duration:0.92 Step:825 CStep:31094\n",
            "Episode:38 Time:09:55:56 Reward:-20.00 Loss:0.00 Last_100_Avg_Rew:-20.658 Avg_Max_Q:0.000 Epsilon:0.73 Duration:0.98 Step:870 CStep:31965\n",
            "Episode:39 Time:09:55:57 Reward:-21.00 Loss:0.00 Last_100_Avg_Rew:-20.667 Avg_Max_Q:0.000 Epsilon:0.72 Duration:0.88 Step:763 CStep:32729\n",
            "Episode:40 Time:09:55:57 Reward:-21.00 Loss:0.00 Last_100_Avg_Rew:-20.675 Avg_Max_Q:0.000 Epsilon:0.72 Duration:0.87 Step:763 CStep:33493\n",
            "Episode:41 Time:09:55:58 Reward:-21.00 Loss:0.00 Last_100_Avg_Rew:-20.683 Avg_Max_Q:0.000 Epsilon:0.71 Duration:0.99 Step:851 CStep:34345\n",
            "Episode:42 Time:09:55:59 Reward:-21.00 Loss:0.00 Last_100_Avg_Rew:-20.690 Avg_Max_Q:0.000 Epsilon:0.70 Duration:0.87 Step:763 CStep:35109\n",
            "Episode:43 Time:09:56:00 Reward:-21.00 Loss:0.00 Last_100_Avg_Rew:-20.698 Avg_Max_Q:0.000 Epsilon:0.70 Duration:0.88 Step:763 CStep:35873\n",
            "Episode:44 Time:09:56:01 Reward:-21.00 Loss:0.00 Last_100_Avg_Rew:-20.705 Avg_Max_Q:0.000 Epsilon:0.70 Duration:0.88 Step:763 CStep:36637\n",
            "Episode:45 Time:09:56:02 Reward:-21.00 Loss:0.00 Last_100_Avg_Rew:-20.711 Avg_Max_Q:0.000 Epsilon:0.69 Duration:0.90 Step:763 CStep:37401\n",
            "Episode:46 Time:09:56:03 Reward:-21.00 Loss:0.00 Last_100_Avg_Rew:-20.717 Avg_Max_Q:0.000 Epsilon:0.68 Duration:0.92 Step:763 CStep:38165\n",
            "Episode:47 Time:09:56:04 Reward:-21.00 Loss:0.00 Last_100_Avg_Rew:-20.723 Avg_Max_Q:0.000 Epsilon:0.68 Duration:0.99 Step:763 CStep:38929\n",
            "Episode:48 Time:09:56:05 Reward:-21.00 Loss:0.00 Last_100_Avg_Rew:-20.729 Avg_Max_Q:0.000 Epsilon:0.68 Duration:0.92 Step:763 CStep:39693\n",
            "Episode:49 Time:09:56:15 Reward:-21.00 Loss:15.66 Last_100_Avg_Rew:-20.735 Avg_Max_Q:0.209 Epsilon:0.67 Duration:10.31 Step:763 CStep:40457\n",
            "Episode:50 Time:09:56:32 Reward:-21.00 Loss:4.58 Last_100_Avg_Rew:-20.740 Avg_Max_Q:0.345 Epsilon:0.66 Duration:16.98 Step:810 CStep:41268\n",
            "Episode:51 Time:09:56:51 Reward:-20.00 Loss:2.75 Last_100_Avg_Rew:-20.725 Avg_Max_Q:0.343 Epsilon:0.66 Duration:18.69 Step:897 CStep:42166\n",
            "Episode:52 Time:09:57:09 Reward:-20.00 Loss:2.61 Last_100_Avg_Rew:-20.712 Avg_Max_Q:0.337 Epsilon:0.65 Duration:17.69 Step:860 CStep:43027\n",
            "Episode:53 Time:09:57:25 Reward:-21.00 Loss:2.72 Last_100_Avg_Rew:-20.717 Avg_Max_Q:0.341 Epsilon:0.65 Duration:15.98 Step:791 CStep:43819\n",
            "Episode:54 Time:09:57:40 Reward:-21.00 Loss:2.50 Last_100_Avg_Rew:-20.722 Avg_Max_Q:0.317 Epsilon:0.64 Duration:15.54 Step:782 CStep:44602\n",
            "Episode:55 Time:09:57:58 Reward:-20.00 Loss:2.49 Last_100_Avg_Rew:-20.709 Avg_Max_Q:0.305 Epsilon:0.64 Duration:17.73 Step:865 CStep:45468\n",
            "Episode:56 Time:09:58:14 Reward:-21.00 Loss:2.24 Last_100_Avg_Rew:-20.714 Avg_Max_Q:0.296 Epsilon:0.63 Duration:16.23 Step:791 CStep:46260\n",
            "Episode:57 Time:09:58:31 Reward:-20.00 Loss:1.71 Last_100_Avg_Rew:-20.702 Avg_Max_Q:0.302 Epsilon:0.62 Duration:16.80 Step:836 CStep:47097\n",
            "Episode:58 Time:09:58:50 Reward:-20.00 Loss:2.16 Last_100_Avg_Rew:-20.690 Avg_Max_Q:0.307 Epsilon:0.62 Duration:18.67 Step:930 CStep:48028\n",
            "Episode:59 Time:09:59:09 Reward:-21.00 Loss:1.67 Last_100_Avg_Rew:-20.695 Avg_Max_Q:0.313 Epsilon:0.62 Duration:18.89 Step:933 CStep:48962\n",
            "Episode:60 Time:09:59:29 Reward:-21.00 Loss:2.95 Last_100_Avg_Rew:-20.700 Avg_Max_Q:0.331 Epsilon:0.61 Duration:20.97 Step:1003 CStep:49966\n",
            "Episode:61 Time:09:59:52 Reward:-21.00 Loss:2.35 Last_100_Avg_Rew:-20.705 Avg_Max_Q:0.334 Epsilon:0.61 Duration:22.30 Step:1020 CStep:50987\n",
            "Episode:62 Time:10:00:11 Reward:-20.00 Loss:1.74 Last_100_Avg_Rew:-20.694 Avg_Max_Q:0.337 Epsilon:0.60 Duration:19.08 Step:920 CStep:51908\n",
            "Episode:63 Time:10:00:37 Reward:-18.00 Loss:1.90 Last_100_Avg_Rew:-20.651 Avg_Max_Q:0.294 Epsilon:0.59 Duration:25.84 Step:1271 CStep:53180\n",
            "Episode:64 Time:10:01:03 Reward:-18.00 Loss:1.95 Last_100_Avg_Rew:-20.609 Avg_Max_Q:0.296 Epsilon:0.58 Duration:26.55 Step:1307 CStep:54488\n",
            "Episode:65 Time:10:01:22 Reward:-21.00 Loss:1.40 Last_100_Avg_Rew:-20.615 Avg_Max_Q:0.249 Epsilon:0.58 Duration:18.94 Step:969 CStep:55458\n",
            "Episode:66 Time:10:01:47 Reward:-20.00 Loss:1.85 Last_100_Avg_Rew:-20.606 Avg_Max_Q:0.191 Epsilon:0.57 Duration:24.26 Step:1213 CStep:56672\n",
            "Episode:67 Time:10:02:15 Reward:-18.00 Loss:1.82 Last_100_Avg_Rew:-20.567 Avg_Max_Q:0.177 Epsilon:0.56 Duration:28.62 Step:1437 CStep:58110\n",
            "Episode:68 Time:10:02:36 Reward:-20.00 Loss:1.61 Last_100_Avg_Rew:-20.559 Avg_Max_Q:0.185 Epsilon:0.55 Duration:21.23 Step:1037 CStep:59148\n",
            "Episode:69 Time:10:02:56 Reward:-21.00 Loss:1.68 Last_100_Avg_Rew:-20.565 Avg_Max_Q:0.200 Epsilon:0.55 Duration:19.14 Step:915 CStep:60064\n",
            "Episode:70 Time:10:03:21 Reward:-17.00 Loss:1.79 Last_100_Avg_Rew:-20.514 Avg_Max_Q:0.208 Epsilon:0.54 Duration:25.78 Step:1273 CStep:61338\n",
            "Episode:71 Time:10:03:44 Reward:-21.00 Loss:1.95 Last_100_Avg_Rew:-20.521 Avg_Max_Q:0.220 Epsilon:0.54 Duration:22.85 Step:1184 CStep:62523\n",
            "Episode:72 Time:10:04:05 Reward:-21.00 Loss:1.75 Last_100_Avg_Rew:-20.528 Avg_Max_Q:0.215 Epsilon:0.53 Duration:21.02 Step:1131 CStep:63655\n",
            "Episode:73 Time:10:04:32 Reward:-19.00 Loss:2.03 Last_100_Avg_Rew:-20.507 Avg_Max_Q:0.171 Epsilon:0.52 Duration:26.67 Step:1415 CStep:65071\n",
            "Episode:74 Time:10:04:56 Reward:-18.00 Loss:2.13 Last_100_Avg_Rew:-20.473 Avg_Max_Q:0.169 Epsilon:0.52 Duration:23.98 Step:1269 CStep:66341\n",
            "Episode:75 Time:10:05:18 Reward:-20.00 Loss:1.89 Last_100_Avg_Rew:-20.467 Avg_Max_Q:0.176 Epsilon:0.51 Duration:21.92 Step:1166 CStep:67508\n",
            "Episode:76 Time:10:05:44 Reward:-20.00 Loss:2.03 Last_100_Avg_Rew:-20.461 Avg_Max_Q:0.188 Epsilon:0.50 Duration:26.11 Step:1385 CStep:68894\n",
            "Episode:77 Time:10:06:04 Reward:-18.00 Loss:2.16 Last_100_Avg_Rew:-20.429 Avg_Max_Q:0.191 Epsilon:0.50 Duration:20.46 Step:1086 CStep:69981\n",
            "Episode:78 Time:10:06:30 Reward:-17.00 Loss:2.71 Last_100_Avg_Rew:-20.385 Avg_Max_Q:0.214 Epsilon:0.49 Duration:25.79 Step:1362 CStep:71344\n",
            "Episode:79 Time:10:06:59 Reward:-16.00 Loss:2.81 Last_100_Avg_Rew:-20.329 Avg_Max_Q:0.248 Epsilon:0.48 Duration:29.05 Step:1535 CStep:72880\n",
            "Episode:80 Time:10:07:23 Reward:-19.00 Loss:2.57 Last_100_Avg_Rew:-20.312 Avg_Max_Q:0.236 Epsilon:0.48 Duration:23.49 Step:1247 CStep:74128\n",
            "Episode:81 Time:10:07:49 Reward:-18.00 Loss:2.61 Last_100_Avg_Rew:-20.284 Avg_Max_Q:0.228 Epsilon:0.47 Duration:26.63 Step:1363 CStep:75492\n",
            "Episode:82 Time:10:08:17 Reward:-18.00 Loss:3.24 Last_100_Avg_Rew:-20.256 Avg_Max_Q:0.200 Epsilon:0.47 Duration:27.38 Step:1443 CStep:76936\n",
            "Episode:83 Time:10:08:39 Reward:-20.00 Loss:2.32 Last_100_Avg_Rew:-20.253 Avg_Max_Q:0.224 Epsilon:0.46 Duration:22.25 Step:1175 CStep:78112\n",
            "Episode:84 Time:10:09:07 Reward:-18.00 Loss:2.38 Last_100_Avg_Rew:-20.226 Avg_Max_Q:0.197 Epsilon:0.45 Duration:28.46 Step:1507 CStep:79620\n",
            "Episode:85 Time:10:09:30 Reward:-19.00 Loss:2.13 Last_100_Avg_Rew:-20.212 Avg_Max_Q:0.203 Epsilon:0.45 Duration:22.46 Step:1188 CStep:80809\n",
            "Episode:86 Time:10:09:54 Reward:-20.00 Loss:2.26 Last_100_Avg_Rew:-20.209 Avg_Max_Q:0.270 Epsilon:0.44 Duration:24.07 Step:1263 CStep:82073\n",
            "Episode:87 Time:10:10:22 Reward:-20.00 Loss:2.45 Last_100_Avg_Rew:-20.207 Avg_Max_Q:0.137 Epsilon:0.43 Duration:28.19 Step:1478 CStep:83552\n",
            "Episode:88 Time:10:10:51 Reward:-18.00 Loss:2.10 Last_100_Avg_Rew:-20.182 Avg_Max_Q:0.160 Epsilon:0.43 Duration:28.31 Step:1485 CStep:85038\n",
            "Episode:89 Time:10:11:12 Reward:-19.00 Loss:1.95 Last_100_Avg_Rew:-20.169 Avg_Max_Q:0.200 Epsilon:0.42 Duration:21.84 Step:1144 CStep:86183\n",
            "Episode:90 Time:10:11:35 Reward:-20.00 Loss:2.41 Last_100_Avg_Rew:-20.167 Avg_Max_Q:0.164 Epsilon:0.42 Duration:23.07 Step:1142 CStep:87326\n",
            "Episode:91 Time:10:12:02 Reward:-18.00 Loss:1.82 Last_100_Avg_Rew:-20.143 Avg_Max_Q:0.190 Epsilon:0.41 Duration:26.80 Step:1316 CStep:88643\n",
            "Episode:92 Time:10:12:27 Reward:-19.00 Loss:2.07 Last_100_Avg_Rew:-20.130 Avg_Max_Q:0.234 Epsilon:0.41 Duration:24.51 Step:1278 CStep:89922\n",
            "Episode:93 Time:10:12:55 Reward:-17.00 Loss:2.19 Last_100_Avg_Rew:-20.097 Avg_Max_Q:0.279 Epsilon:0.40 Duration:28.50 Step:1480 CStep:91403\n",
            "Episode:94 Time:10:13:22 Reward:-19.00 Loss:2.21 Last_100_Avg_Rew:-20.085 Avg_Max_Q:0.324 Epsilon:0.40 Duration:27.11 Step:1392 CStep:92796\n",
            "Episode:95 Time:10:13:48 Reward:-21.00 Loss:2.42 Last_100_Avg_Rew:-20.095 Avg_Max_Q:0.328 Epsilon:0.39 Duration:25.38 Step:1347 CStep:94144\n",
            "Episode:96 Time:10:14:15 Reward:-18.00 Loss:2.72 Last_100_Avg_Rew:-20.073 Avg_Max_Q:0.327 Epsilon:0.38 Duration:27.02 Step:1437 CStep:95582\n",
            "Episode:97 Time:10:14:37 Reward:-18.00 Loss:1.99 Last_100_Avg_Rew:-20.052 Avg_Max_Q:0.279 Epsilon:0.38 Duration:21.82 Step:1133 CStep:96716\n",
            "Episode:98 Time:10:15:04 Reward:-18.00 Loss:2.54 Last_100_Avg_Rew:-20.031 Avg_Max_Q:0.295 Epsilon:0.37 Duration:27.65 Step:1432 CStep:98149\n",
            "Episode:99 Time:10:15:38 Reward:-18.00 Loss:3.14 Last_100_Avg_Rew:-20.010 Avg_Max_Q:0.331 Epsilon:0.37 Duration:33.24 Step:1681 CStep:99831\n",
            "Episode:100 Time:10:16:12 Reward:-14.00 Loss:3.40 Last_100_Avg_Rew:-19.950 Avg_Max_Q:0.391 Epsilon:0.36 Duration:34.67 Step:1757 CStep:101589\n",
            "Episode:101 Time:10:16:44 Reward:-18.00 Loss:3.67 Last_100_Avg_Rew:-19.920 Avg_Max_Q:0.436 Epsilon:0.36 Duration:32.24 Step:1617 CStep:103207\n",
            "Episode:102 Time:10:17:10 Reward:-19.00 Loss:3.42 Last_100_Avg_Rew:-19.900 Avg_Max_Q:0.481 Epsilon:0.35 Duration:25.45 Step:1336 CStep:104544\n",
            "Episode:103 Time:10:17:33 Reward:-21.00 Loss:3.12 Last_100_Avg_Rew:-19.900 Avg_Max_Q:0.422 Epsilon:0.35 Duration:22.65 Step:1181 CStep:105726\n",
            "Episode:104 Time:10:18:05 Reward:-19.00 Loss:4.65 Last_100_Avg_Rew:-19.880 Avg_Max_Q:0.481 Epsilon:0.34 Duration:32.18 Step:1599 CStep:107326\n",
            "Episode:105 Time:10:18:40 Reward:-17.00 Loss:5.75 Last_100_Avg_Rew:-19.850 Avg_Max_Q:0.515 Epsilon:0.33 Duration:34.96 Step:1769 CStep:109096\n",
            "Episode:106 Time:10:19:21 Reward:-17.00 Loss:6.46 Last_100_Avg_Rew:-19.820 Avg_Max_Q:0.570 Epsilon:0.33 Duration:40.92 Step:2076 CStep:111173\n",
            "Episode:107 Time:10:19:57 Reward:-16.00 Loss:6.01 Last_100_Avg_Rew:-19.780 Avg_Max_Q:0.602 Epsilon:0.32 Duration:35.88 Step:1771 CStep:112945\n",
            "Episode:108 Time:10:20:28 Reward:-19.00 Loss:5.02 Last_100_Avg_Rew:-19.770 Avg_Max_Q:0.569 Epsilon:0.32 Duration:31.44 Step:1592 CStep:114538\n",
            "Episode:109 Time:10:20:58 Reward:-17.00 Loss:4.35 Last_100_Avg_Rew:-19.730 Avg_Max_Q:0.530 Epsilon:0.31 Duration:29.76 Step:1533 CStep:116072\n",
            "Episode:110 Time:10:21:30 Reward:-17.00 Loss:3.94 Last_100_Avg_Rew:-19.700 Avg_Max_Q:0.484 Epsilon:0.31 Duration:32.23 Step:1597 CStep:117670\n",
            "Episode:111 Time:10:22:06 Reward:-19.00 Loss:4.74 Last_100_Avg_Rew:-19.680 Avg_Max_Q:0.581 Epsilon:0.30 Duration:36.08 Step:1846 CStep:119517\n",
            "Episode:112 Time:10:22:37 Reward:-17.00 Loss:4.63 Last_100_Avg_Rew:-19.660 Avg_Max_Q:0.629 Epsilon:0.30 Duration:30.60 Step:1567 CStep:121085\n",
            "Episode:113 Time:10:23:06 Reward:-19.00 Loss:4.06 Last_100_Avg_Rew:-19.640 Avg_Max_Q:0.592 Epsilon:0.29 Duration:29.12 Step:1503 CStep:122589\n",
            "Episode:114 Time:10:23:45 Reward:-18.00 Loss:4.67 Last_100_Avg_Rew:-19.610 Avg_Max_Q:0.573 Epsilon:0.29 Duration:38.71 Step:1946 CStep:124536\n",
            "Episode:115 Time:10:24:17 Reward:-19.00 Loss:4.09 Last_100_Avg_Rew:-19.590 Avg_Max_Q:0.557 Epsilon:0.28 Duration:32.90 Step:1710 CStep:126247\n",
            "Episode:116 Time:10:25:06 Reward:-11.00 Loss:6.57 Last_100_Avg_Rew:-19.510 Avg_Max_Q:0.640 Epsilon:0.28 Duration:48.09 Step:2465 CStep:128713\n",
            "Episode:117 Time:10:25:38 Reward:-17.00 Loss:4.30 Last_100_Avg_Rew:-19.470 Avg_Max_Q:0.556 Epsilon:0.27 Duration:32.43 Step:1668 CStep:130382\n",
            "Episode:118 Time:10:26:10 Reward:-17.00 Loss:4.03 Last_100_Avg_Rew:-19.430 Avg_Max_Q:0.588 Epsilon:0.27 Duration:31.80 Step:1646 CStep:132029\n",
            "Episode:119 Time:10:26:42 Reward:-16.00 Loss:4.41 Last_100_Avg_Rew:-19.380 Avg_Max_Q:0.620 Epsilon:0.26 Duration:32.03 Step:1660 CStep:133690\n",
            "Episode:120 Time:10:27:18 Reward:-17.00 Loss:5.03 Last_100_Avg_Rew:-19.340 Avg_Max_Q:0.657 Epsilon:0.26 Duration:36.34 Step:1854 CStep:135545\n",
            "Episode:121 Time:10:27:53 Reward:-17.00 Loss:4.49 Last_100_Avg_Rew:-19.300 Avg_Max_Q:0.690 Epsilon:0.25 Duration:35.19 Step:1816 CStep:137362\n",
            "Episode:122 Time:10:28:23 Reward:-19.00 Loss:3.98 Last_100_Avg_Rew:-19.280 Avg_Max_Q:0.710 Epsilon:0.25 Duration:29.97 Step:1564 CStep:138927\n",
            "Episode:123 Time:10:28:59 Reward:-19.00 Loss:4.36 Last_100_Avg_Rew:-19.260 Avg_Max_Q:0.698 Epsilon:0.24 Duration:35.13 Step:1805 CStep:140733\n",
            "Episode:124 Time:10:29:28 Reward:-20.00 Loss:4.01 Last_100_Avg_Rew:-19.250 Avg_Max_Q:0.699 Epsilon:0.24 Duration:29.47 Step:1528 CStep:142262\n",
            "Episode:125 Time:10:29:58 Reward:-19.00 Loss:4.39 Last_100_Avg_Rew:-19.230 Avg_Max_Q:0.759 Epsilon:0.24 Duration:30.32 Step:1573 CStep:143836\n",
            "Episode:126 Time:10:30:33 Reward:-18.00 Loss:5.23 Last_100_Avg_Rew:-19.200 Avg_Max_Q:0.796 Epsilon:0.23 Duration:35.11 Step:1808 CStep:145645\n",
            "Episode:127 Time:10:31:00 Reward:-18.00 Loss:3.97 Last_100_Avg_Rew:-19.180 Avg_Max_Q:0.746 Epsilon:0.23 Duration:26.96 Step:1390 CStep:147036\n",
            "Episode:128 Time:10:31:31 Reward:-18.00 Loss:4.27 Last_100_Avg_Rew:-19.170 Avg_Max_Q:0.757 Epsilon:0.23 Duration:30.88 Step:1581 CStep:148618\n",
            "Episode:129 Time:10:32:12 Reward:-12.00 Loss:5.07 Last_100_Avg_Rew:-19.080 Avg_Max_Q:0.824 Epsilon:0.22 Duration:40.24 Step:2108 CStep:150727\n",
            "Episode:130 Time:10:32:41 Reward:-17.00 Loss:3.86 Last_100_Avg_Rew:-19.040 Avg_Max_Q:0.646 Epsilon:0.22 Duration:29.82 Step:1577 CStep:152305\n",
            "Episode:131 Time:10:33:13 Reward:-17.00 Loss:3.49 Last_100_Avg_Rew:-19.000 Avg_Max_Q:0.636 Epsilon:0.21 Duration:31.72 Step:1643 CStep:153949\n",
            "Episode:132 Time:10:33:48 Reward:-16.00 Loss:3.98 Last_100_Avg_Rew:-18.950 Avg_Max_Q:0.701 Epsilon:0.21 Duration:34.99 Step:1786 CStep:155736\n",
            "Episode:133 Time:10:34:30 Reward:-13.00 Loss:4.24 Last_100_Avg_Rew:-18.870 Avg_Max_Q:0.696 Epsilon:0.21 Duration:42.30 Step:2174 CStep:157911\n",
            "Episode:134 Time:10:35:15 Reward:-13.00 Loss:5.00 Last_100_Avg_Rew:-18.790 Avg_Max_Q:0.689 Epsilon:0.20 Duration:44.60 Step:2318 CStep:160230\n",
            "Episode:135 Time:10:36:00 Reward:-14.00 Loss:5.23 Last_100_Avg_Rew:-18.720 Avg_Max_Q:0.720 Epsilon:0.20 Duration:44.76 Step:2370 CStep:162601\n",
            "Episode:136 Time:10:36:47 Reward:-17.00 Loss:4.83 Last_100_Avg_Rew:-18.680 Avg_Max_Q:0.678 Epsilon:0.19 Duration:47.70 Step:2457 CStep:165059\n",
            "Episode:137 Time:10:37:27 Reward:-15.00 Loss:4.04 Last_100_Avg_Rew:-18.620 Avg_Max_Q:0.681 Epsilon:0.19 Duration:39.79 Step:2033 CStep:167093\n",
            "Episode:138 Time:10:38:04 Reward:-16.00 Loss:3.98 Last_100_Avg_Rew:-18.580 Avg_Max_Q:0.718 Epsilon:0.18 Duration:36.74 Step:1807 CStep:168901\n",
            "Episode:139 Time:10:38:46 Reward:-13.00 Loss:4.45 Last_100_Avg_Rew:-18.500 Avg_Max_Q:0.710 Epsilon:0.18 Duration:42.08 Step:2120 CStep:171022\n",
            "Episode:141 Time:10:39:57 Reward:-12.00 Loss:5.01 Last_100_Avg_Rew:-18.360 Avg_Max_Q:0.806 Epsilon:0.17 Duration:39.38 Step:2046 CStep:174670\n",
            "Episode:142 Time:10:40:49 Reward:-7.00 Loss:5.64 Last_100_Avg_Rew:-18.220 Avg_Max_Q:0.752 Epsilon:0.17 Duration:52.20 Step:2698 CStep:177369\n",
            "Episode:143 Time:10:41:28 Reward:-13.00 Loss:3.94 Last_100_Avg_Rew:-18.140 Avg_Max_Q:0.702 Epsilon:0.17 Duration:38.79 Step:2004 CStep:179374\n",
            "Episode:144 Time:10:42:07 Reward:-14.00 Loss:3.75 Last_100_Avg_Rew:-18.070 Avg_Max_Q:0.723 Epsilon:0.16 Duration:38.78 Step:2011 CStep:181386\n",
            "Episode:145 Time:10:42:40 Reward:-17.00 Loss:3.25 Last_100_Avg_Rew:-18.030 Avg_Max_Q:0.712 Epsilon:0.16 Duration:33.68 Step:1749 CStep:183136\n",
            "Episode:146 Time:10:43:27 Reward:-15.00 Loss:4.20 Last_100_Avg_Rew:-17.970 Avg_Max_Q:0.738 Epsilon:0.16 Duration:46.25 Step:2343 CStep:185480\n",
            "Episode:147 Time:10:43:59 Reward:-20.00 Loss:3.42 Last_100_Avg_Rew:-17.960 Avg_Max_Q:0.750 Epsilon:0.15 Duration:32.38 Step:1653 CStep:187134\n",
            "Episode:148 Time:10:44:35 Reward:-19.00 Loss:3.66 Last_100_Avg_Rew:-17.940 Avg_Max_Q:0.761 Epsilon:0.15 Duration:36.41 Step:1870 CStep:189005\n",
            "Episode:149 Time:10:45:23 Reward:-15.00 Loss:4.38 Last_100_Avg_Rew:-17.880 Avg_Max_Q:0.772 Epsilon:0.15 Duration:47.21 Step:2377 CStep:191383\n",
            "Episode:150 Time:10:46:00 Reward:-17.00 Loss:3.71 Last_100_Avg_Rew:-17.840 Avg_Max_Q:0.772 Epsilon:0.14 Duration:36.92 Step:1830 CStep:193214\n",
            "Episode:151 Time:10:46:49 Reward:-11.00 Loss:4.88 Last_100_Avg_Rew:-17.750 Avg_Max_Q:0.779 Epsilon:0.14 Duration:49.28 Step:2494 CStep:195709\n",
            "Episode:152 Time:10:47:38 Reward:-11.00 Loss:4.39 Last_100_Avg_Rew:-17.660 Avg_Max_Q:0.724 Epsilon:0.14 Duration:49.41 Step:2377 CStep:198087\n",
            "Episode:153 Time:10:48:22 Reward:-14.00 Loss:4.32 Last_100_Avg_Rew:-17.590 Avg_Max_Q:0.764 Epsilon:0.13 Duration:43.93 Step:2243 CStep:200331\n",
            "Episode:154 Time:10:49:02 Reward:-12.00 Loss:4.09 Last_100_Avg_Rew:-17.500 Avg_Max_Q:0.793 Epsilon:0.13 Duration:40.10 Step:2045 CStep:202377\n",
            "Episode:155 Time:10:49:58 Reward:-6.00 Loss:5.27 Last_100_Avg_Rew:-17.360 Avg_Max_Q:0.838 Epsilon:0.13 Duration:55.21 Step:2841 CStep:205219\n",
            "Episode:156 Time:10:50:44 Reward:-11.00 Loss:4.64 Last_100_Avg_Rew:-17.260 Avg_Max_Q:0.856 Epsilon:0.12 Duration:46.26 Step:2369 CStep:207589\n",
            "Episode:157 Time:10:51:32 Reward:-11.00 Loss:4.98 Last_100_Avg_Rew:-17.170 Avg_Max_Q:0.879 Epsilon:0.12 Duration:48.40 Step:2463 CStep:210053\n",
            "Episode:158 Time:10:52:16 Reward:-12.00 Loss:4.41 Last_100_Avg_Rew:-17.090 Avg_Max_Q:0.854 Epsilon:0.12 Duration:43.62 Step:2235 CStep:212289\n",
            "Episode:159 Time:10:53:11 Reward:-8.00 Loss:4.90 Last_100_Avg_Rew:-16.960 Avg_Max_Q:0.879 Epsilon:0.12 Duration:55.59 Step:2726 CStep:215016\n",
            "Episode:160 Time:10:53:57 Reward:-15.00 Loss:4.99 Last_100_Avg_Rew:-16.900 Avg_Max_Q:0.915 Epsilon:0.11 Duration:45.30 Step:2187 CStep:217204\n",
            "Episode:161 Time:10:54:53 Reward:-10.00 Loss:5.53 Last_100_Avg_Rew:-16.790 Avg_Max_Q:0.951 Epsilon:0.11 Duration:56.67 Step:2671 CStep:219876\n",
            "Episode:162 Time:10:55:41 Reward:-10.00 Loss:5.08 Last_100_Avg_Rew:-16.690 Avg_Max_Q:0.926 Epsilon:0.11 Duration:47.76 Step:2297 CStep:222174\n",
            "Episode:163 Time:10:56:30 Reward:-14.00 Loss:5.20 Last_100_Avg_Rew:-16.650 Avg_Max_Q:0.973 Epsilon:0.11 Duration:48.61 Step:2285 CStep:224460\n",
            "Episode:164 Time:10:57:16 Reward:-14.00 Loss:4.99 Last_100_Avg_Rew:-16.610 Avg_Max_Q:0.960 Epsilon:0.10 Duration:45.75 Step:2196 CStep:226657\n",
            "Episode:165 Time:10:57:59 Reward:-13.00 Loss:4.74 Last_100_Avg_Rew:-16.530 Avg_Max_Q:0.930 Epsilon:0.10 Duration:43.89 Step:2114 CStep:228772\n",
            "Episode:166 Time:10:58:51 Reward:-10.00 Loss:5.29 Last_100_Avg_Rew:-16.430 Avg_Max_Q:0.917 Epsilon:0.10 Duration:51.44 Step:2577 CStep:231350\n",
            "Episode:167 Time:10:59:42 Reward:-9.00 Loss:5.33 Last_100_Avg_Rew:-16.340 Avg_Max_Q:0.916 Epsilon:0.10 Duration:50.78 Step:2550 CStep:233901\n",
            "Episode:168 Time:11:00:34 Reward:-9.00 Loss:5.41 Last_100_Avg_Rew:-16.230 Avg_Max_Q:0.927 Epsilon:0.09 Duration:52.36 Step:2639 CStep:236541\n",
            "Episode:169 Time:11:01:35 Reward:-5.00 Loss:6.30 Last_100_Avg_Rew:-16.070 Avg_Max_Q:0.933 Epsilon:0.09 Duration:60.62 Step:3084 CStep:239626\n",
            "Episode:170 Time:11:02:42 Reward:-2.00 Loss:6.65 Last_100_Avg_Rew:-15.920 Avg_Max_Q:0.947 Epsilon:0.09 Duration:67.68 Step:3439 CStep:243066\n",
            "Episode:171 Time:11:03:24 Reward:-11.00 Loss:4.57 Last_100_Avg_Rew:-15.820 Avg_Max_Q:0.955 Epsilon:0.09 Duration:41.78 Step:2140 CStep:245207\n",
            "Episode:172 Time:11:04:05 Reward:-14.00 Loss:4.00 Last_100_Avg_Rew:-15.750 Avg_Max_Q:0.944 Epsilon:0.08 Duration:41.01 Step:2131 CStep:247339\n",
            "Episode:173 Time:11:05:01 Reward:-4.00 Loss:4.96 Last_100_Avg_Rew:-15.600 Avg_Max_Q:0.972 Epsilon:0.08 Duration:55.72 Step:2906 CStep:250246\n",
            "Episode:174 Time:11:05:49 Reward:-8.00 Loss:4.92 Last_100_Avg_Rew:-15.500 Avg_Max_Q:0.986 Epsilon:0.08 Duration:48.07 Step:2525 CStep:252772\n",
            "Episode:175 Time:11:06:24 Reward:-14.00 Loss:3.61 Last_100_Avg_Rew:-15.440 Avg_Max_Q:0.966 Epsilon:0.08 Duration:34.97 Step:1800 CStep:254573\n",
            "Episode:176 Time:11:07:02 Reward:-12.00 Loss:3.76 Last_100_Avg_Rew:-15.360 Avg_Max_Q:0.927 Epsilon:0.08 Duration:38.35 Step:1990 CStep:256564\n",
            "Episode:177 Time:11:07:53 Reward:-9.00 Loss:4.82 Last_100_Avg_Rew:-15.270 Avg_Max_Q:0.942 Epsilon:0.07 Duration:50.51 Step:2637 CStep:259202\n",
            "Episode:178 Time:11:08:49 Reward:-11.00 Loss:5.10 Last_100_Avg_Rew:-15.210 Avg_Max_Q:0.928 Epsilon:0.07 Duration:56.30 Step:2940 CStep:262143\n",
            "Episode:179 Time:11:09:36 Reward:-9.00 Loss:4.04 Last_100_Avg_Rew:-15.140 Avg_Max_Q:0.934 Epsilon:0.07 Duration:46.35 Step:2413 CStep:264557\n",
            "Episode:180 Time:11:10:25 Reward:-9.00 Loss:5.02 Last_100_Avg_Rew:-15.040 Avg_Max_Q:0.959 Epsilon:0.07 Duration:49.12 Step:2538 CStep:267096\n",
            "Episode:181 Time:11:11:07 Reward:-12.00 Loss:4.41 Last_100_Avg_Rew:-14.980 Avg_Max_Q:0.943 Epsilon:0.07 Duration:42.30 Step:2218 CStep:269315\n",
            "Episode:182 Time:11:12:01 Reward:-4.00 Loss:5.07 Last_100_Avg_Rew:-14.840 Avg_Max_Q:0.981 Epsilon:0.06 Duration:54.32 Step:2856 CStep:272172\n",
            "Episode:183 Time:11:12:50 Reward:-10.00 Loss:4.77 Last_100_Avg_Rew:-14.740 Avg_Max_Q:1.003 Epsilon:0.06 Duration:49.01 Step:2501 CStep:274674\n",
            "Episode:184 Time:11:13:48 Reward:-9.00 Loss:5.23 Last_100_Avg_Rew:-14.650 Avg_Max_Q:0.977 Epsilon:0.06 Duration:58.04 Step:2980 CStep:277655\n",
            "Episode:185 Time:11:14:24 Reward:-19.00 Loss:5.73 Last_100_Avg_Rew:-14.650 Avg_Max_Q:0.953 Epsilon:0.06 Duration:35.35 Step:1733 CStep:279389\n",
            "Episode:186 Time:11:15:18 Reward:-8.00 Loss:4.73 Last_100_Avg_Rew:-14.530 Avg_Max_Q:0.975 Epsilon:0.06 Duration:54.09 Step:2692 CStep:282082\n",
            "Episode:187 Time:11:16:01 Reward:-13.00 Loss:4.23 Last_100_Avg_Rew:-14.460 Avg_Max_Q:0.971 Epsilon:0.06 Duration:42.91 Step:2207 CStep:284290\n",
            "Episode:188 Time:11:16:52 Reward:-11.00 Loss:4.38 Last_100_Avg_Rew:-14.390 Avg_Max_Q:0.996 Epsilon:0.06 Duration:51.30 Step:2611 CStep:286902\n",
            "Episode:189 Time:11:17:33 Reward:-16.00 Loss:3.55 Last_100_Avg_Rew:-14.360 Avg_Max_Q:0.982 Epsilon:0.05 Duration:40.83 Step:2100 CStep:289003\n",
            "Episode:190 Time:11:18:22 Reward:-9.00 Loss:4.05 Last_100_Avg_Rew:-14.250 Avg_Max_Q:0.993 Epsilon:0.05 Duration:49.46 Step:2423 CStep:291427\n",
            "Episode:191 Time:11:19:05 Reward:-14.00 Loss:3.68 Last_100_Avg_Rew:-14.210 Avg_Max_Q:0.986 Epsilon:0.05 Duration:42.49 Step:2163 CStep:293591\n",
            "Episode:192 Time:11:19:46 Reward:-16.00 Loss:3.73 Last_100_Avg_Rew:-14.180 Avg_Max_Q:1.018 Epsilon:0.05 Duration:41.25 Step:2045 CStep:295637\n",
            "Episode:193 Time:11:20:36 Reward:-8.00 Loss:4.43 Last_100_Avg_Rew:-14.090 Avg_Max_Q:1.019 Epsilon:0.05 Duration:50.24 Step:2494 CStep:298132\n"
          ]
        },
        {
          "output_type": "error",
          "ename": "KeyboardInterrupt",
          "evalue": "ignored",
          "traceback": [
            "\u001b[0;31m---------------------------------------------------------------------------\u001b[0m",
            "\u001b[0;31mKeyboardInterrupt\u001b[0m                         Traceback (most recent call last)",
            "\u001b[0;32m<ipython-input-41-74d8c2ec9669>\u001b[0m in \u001b[0;36m<module>\u001b[0;34m()\u001b[0m\n\u001b[1;32m     53\u001b[0m         \u001b[0;32mif\u001b[0m \u001b[0mTRAIN_MODEL\u001b[0m\u001b[0;34m:\u001b[0m\u001b[0;34m\u001b[0m\u001b[0;34m\u001b[0m\u001b[0m\n\u001b[1;32m     54\u001b[0m             \u001b[0;31m# Perform one step of the optimization (on the target network)\u001b[0m\u001b[0;34m\u001b[0m\u001b[0;34m\u001b[0m\u001b[0;34m\u001b[0m\u001b[0m\n\u001b[0;32m---> 55\u001b[0;31m             \u001b[0mloss\u001b[0m\u001b[0;34m,\u001b[0m \u001b[0mmax_q_val\u001b[0m \u001b[0;34m=\u001b[0m \u001b[0magent\u001b[0m\u001b[0;34m.\u001b[0m\u001b[0mtrain\u001b[0m\u001b[0;34m(\u001b[0m\u001b[0;34m)\u001b[0m  \u001b[0;31m# Train with random BATCH_SIZE state taken from mem\u001b[0m\u001b[0;34m\u001b[0m\u001b[0;34m\u001b[0m\u001b[0m\n\u001b[0m\u001b[1;32m     56\u001b[0m         \u001b[0;32melse\u001b[0m\u001b[0;34m:\u001b[0m\u001b[0;34m\u001b[0m\u001b[0;34m\u001b[0m\u001b[0m\n\u001b[1;32m     57\u001b[0m             \u001b[0mloss\u001b[0m\u001b[0;34m,\u001b[0m \u001b[0mmax_q_val\u001b[0m \u001b[0;34m=\u001b[0m \u001b[0;34m[\u001b[0m\u001b[0;36m0\u001b[0m\u001b[0;34m,\u001b[0m \u001b[0;36m0\u001b[0m\u001b[0;34m]\u001b[0m\u001b[0;34m\u001b[0m\u001b[0;34m\u001b[0m\u001b[0m\n",
            "\u001b[0;32m<ipython-input-5-72920fec149c>\u001b[0m in \u001b[0;36mtrain\u001b[0;34m(self)\u001b[0m\n\u001b[1;32m     83\u001b[0m         \u001b[0;31m# Concat batches in one array\u001b[0m\u001b[0;34m\u001b[0m\u001b[0;34m\u001b[0m\u001b[0;34m\u001b[0m\u001b[0m\n\u001b[1;32m     84\u001b[0m         \u001b[0;31m# (np.arr, np.arr) ==> np.BIGarr\u001b[0m\u001b[0;34m\u001b[0m\u001b[0;34m\u001b[0m\u001b[0;34m\u001b[0m\u001b[0m\n\u001b[0;32m---> 85\u001b[0;31m         \u001b[0mstate\u001b[0m \u001b[0;34m=\u001b[0m \u001b[0mnp\u001b[0m\u001b[0;34m.\u001b[0m\u001b[0mconcatenate\u001b[0m\u001b[0;34m(\u001b[0m\u001b[0mstate\u001b[0m\u001b[0;34m)\u001b[0m\u001b[0;34m\u001b[0m\u001b[0;34m\u001b[0m\u001b[0m\n\u001b[0m\u001b[1;32m     86\u001b[0m         \u001b[0mnext_state\u001b[0m \u001b[0;34m=\u001b[0m \u001b[0mnp\u001b[0m\u001b[0;34m.\u001b[0m\u001b[0mconcatenate\u001b[0m\u001b[0;34m(\u001b[0m\u001b[0mnext_state\u001b[0m\u001b[0;34m)\u001b[0m\u001b[0;34m\u001b[0m\u001b[0;34m\u001b[0m\u001b[0m\n\u001b[1;32m     87\u001b[0m \u001b[0;34m\u001b[0m\u001b[0m\n",
            "\u001b[0;32m<__array_function__ internals>\u001b[0m in \u001b[0;36mconcatenate\u001b[0;34m(*args, **kwargs)\u001b[0m\n",
            "\u001b[0;31mKeyboardInterrupt\u001b[0m: "
          ]
        }
      ]
    },
    {
      "cell_type": "markdown",
      "source": [
        "#play\n"
      ],
      "metadata": {
        "id": "IFaZEEiOu4xG"
      }
    },
    {
      "cell_type": "markdown",
      "source": [
        "play with your trained agent! (show the game in a gif!)"
      ],
      "metadata": {
        "id": "jErPJoJPu8iy"
      }
    },
    {
      "cell_type": "code",
      "source": [
        ""
      ],
      "metadata": {
        "id": "D9eAjdEDu7qJ"
      },
      "execution_count": null,
      "outputs": []
    },
    {
      "cell_type": "markdown",
      "source": [
        "# Analysis of results"
      ],
      "metadata": {
        "id": "J-FRfhefngs9"
      }
    },
    {
      "cell_type": "markdown",
      "source": [
        "Analyse your results.\n",
        "\n",
        "Q-values, actions, total rewards, and number of steps per epsiode.\n",
        "\n",
        "Use convinient plots to support your statements."
      ],
      "metadata": {
        "id": "CaePNEJBtNk-"
      }
    }
  ]
}