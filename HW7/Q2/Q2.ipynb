{
  "nbformat": 4,
  "nbformat_minor": 0,
  "metadata": {
    "colab": {
      "name": "DDQN.ipynb",
      "provenance": []
    },
    "kernelspec": {
      "name": "python3",
      "display_name": "Python 3"
    },
    "language_info": {
      "name": "python"
    },
    "accelerator": "GPU",
    "gpuClass": "standard"
  },
  "cells": [
    {
      "cell_type": "markdown",
      "source": [
        "<div align=center>\n",
        "\t\t\n",
        "<p></p>\n",
        "<p></p>\n",
        "<font size=5>\n",
        "In the Name of God\n",
        "<font/>\n",
        "<p></p>\n",
        " <br/>\n",
        "    <br/>\n",
        "    <br/>\n",
        "<font color=#FF7500>\n",
        "Sharif University of Technology - Departmenet of Computer Engineering\n",
        "</font>\n",
        "<p></p>\n",
        "<font color=blue>\n",
        "Artifical Intelligence - Dr. Mohammad Hossein Rohban\n",
        "</font>\n",
        "<br/>\n",
        "<br/>\n",
        "Spring 2022\n",
        "\n",
        "</div>\n",
        "\n",
        "<hr/>\n",
        "\t\t<div align=center>\n",
        "\t\t    <font color=red size=6>\n",
        "\t\t\t    <br />\n",
        "Practical Assignment \n",
        "            \t<br/>\n",
        "\t\t\t</font>\n",
        "    <br/>\n",
        "    <br/>\n",
        "<font size=4>\n",
        "\t\t\t<br/><br/>\n",
        "Deadline:  Tir 25\n",
        "                <br/><b>\n",
        "              Cheating is Strongly Prohibited\n",
        "                </b><br/><br/>\n",
        "                <font color=red>\n",
        "Please run all the cells.\n",
        "     </font>\n",
        "</font>\n",
        "                <br/>\n",
        "    </div>"
      ],
      "metadata": {
        "id": "g1oDLRBPTnOt"
      }
    },
    {
      "cell_type": "markdown",
      "metadata": {
        "id": "xyAJO9HTfZ5y"
      },
      "source": [
        "# Personal Data\n"
      ]
    },
    {
      "cell_type": "code",
      "execution_count": null,
      "metadata": {
        "id": "nNmw4nhFfZ5z"
      },
      "outputs": [],
      "source": [
        "# Set your student number\n",
        "student_number = 98000000\n",
        "Name = ''\n",
        "Last_Name = ''"
      ]
    },
    {
      "cell_type": "markdown",
      "metadata": {
        "id": "5ZX6zn8ofZ50"
      },
      "source": [
        "# Rules\n",
        "- You are not allowed to use provided codes that can be found on the internet. \n",
        "- If you want to use a library which is not already imported, you must ask a question on Quera to get the permission of using that.\n",
        "- Do not hesitate to ask questions on Quera, if you have any."
      ]
    },
    {
      "cell_type": "markdown",
      "source": [
        "in this problem, you are asked to implement a DQN(deep q-learning network) for one of gym environments \"PongDeterministic-v4\"."
      ],
      "metadata": {
        "id": "42VDE8xJT4GU"
      }
    },
    {
      "cell_type": "markdown",
      "metadata": {
        "id": "YNe5ZIlF7P0A"
      },
      "source": [
        "# Mastering Atari Games using Deep Reinforcement Learning\n",
        "\n",
        "In this assignment, you will learn how to implement a Double-Deep-Q-Network (DDQN), and to demonstrate that, you may implement and train a DDQN and run it on an Atari game in **OpenAI-Gym** environment. Additionally, you may also want to refer to the [original paper](https://arxiv.org/pdf/1312.5602.pdf) regarding the usage of DQN in Atari networks. Double-DQN works the same with slight difference in using two identical networks for Q-table. [read this](https://medium.com/@parsa_h_m/deep-reinforcement-learning-dqn-double-dqn-dueling-dqn-noisy-dqn-and-dqn-with-prioritized-551f621a9823)\n",
        "\n",
        "* **PongDeterministic-v4**: A famous Atari game that is a staple for learning deep q networks. This game is already available in the gym library environment. By solving this completely you will receive 100/100 points.\n",
        "\n",
        "In the following, you can read the description of the games and how to start running it. We advise using either `Google-Colab` or `Kaggle` for training the model as DQN models usually take a lot of time to train.\n"
      ]
    },
    {
      "cell_type": "markdown",
      "source": [
        "# Environment setup and importing libraries"
      ],
      "metadata": {
        "id": "oECbPx8FTsUA"
      }
    },
    {
      "cell_type": "code",
      "execution_count": null,
      "metadata": {
        "id": "MNUHdHe7KZ4d"
      },
      "outputs": [],
      "source": [
        "!nvidia-smi"
      ]
    },
    {
      "cell_type": "code",
      "source": [
        "!pip install atari-py"
      ],
      "metadata": {
        "id": "XZfYEJ2BVVcr"
      },
      "execution_count": null,
      "outputs": []
    },
    {
      "cell_type": "code",
      "source": [
        "import gym\n",
        "import cv2\n",
        "\n",
        "import time\n",
        "import json\n",
        "import random\n",
        "import numpy as np\n",
        "\n",
        "import torch\n",
        "import torch.nn as nn\n",
        "import torch.optim as optim\n",
        "import torch.nn.functional as F\n",
        "\n",
        "from collections import deque\n",
        "\n",
        "import matplotlib.pyplot as plt\n",
        "from IPython.display import clear_output\n",
        "\n",
        "%matplotlib inline"
      ],
      "metadata": {
        "id": "uXw5NEiQK72N"
      },
      "execution_count": null,
      "outputs": []
    },
    {
      "cell_type": "markdown",
      "source": [
        "First mount to your colab"
      ],
      "metadata": {
        "id": "irfvrM3FUcbd"
      }
    },
    {
      "cell_type": "code",
      "source": [
        "from google.colab import drive\n",
        "drive.mount('/content/drive')\n",
        "%cd path_to_the_specific_folder"
      ],
      "metadata": {
        "id": "aSqldjofUbyZ"
      },
      "execution_count": null,
      "outputs": []
    },
    {
      "cell_type": "markdown",
      "source": [
        "now download ROM.rar from [here](http://www.atarimania.com/rom_collection_archive_atari_2600_roms.html) and then, upload them to the same folder as this google colab is located. Then unrar it using code below:"
      ],
      "metadata": {
        "id": "hrhkzMspUfVS"
      }
    },
    {
      "cell_type": "code",
      "source": [
        "!wget http://www.atarimania.com/roms/Roms.rar "
      ],
      "metadata": {
        "id": "2VtpkHNyiqRK"
      },
      "execution_count": null,
      "outputs": []
    },
    {
      "cell_type": "code",
      "source": [
        "!unrar x \"Roms.rar\""
      ],
      "metadata": {
        "id": "ppku6CD1U_8O"
      },
      "execution_count": null,
      "outputs": []
    },
    {
      "cell_type": "markdown",
      "source": [
        "now add them to your python!"
      ],
      "metadata": {
        "id": "hx4m59MvU2DV"
      }
    },
    {
      "cell_type": "code",
      "source": [
        "!python -m atari_py.import_roms path_to_the_Roms.rar_folder"
      ],
      "metadata": {
        "id": "k8SrRtr0VP7X"
      },
      "execution_count": null,
      "outputs": []
    },
    {
      "cell_type": "markdown",
      "source": [
        "Experiments with the environment"
      ],
      "metadata": {
        "id": "qYHi7vUHiYOo"
      }
    },
    {
      "cell_type": "code",
      "source": [
        "DEVICE = torch.device(\"cuda\" if torch.cuda.is_available() else \"cpu\")"
      ],
      "metadata": {
        "id": "Q048kRG2ihsQ"
      },
      "execution_count": null,
      "outputs": []
    },
    {
      "cell_type": "code",
      "source": [
        "ENVIRONMENT = \"PongDeterministic-v4\""
      ],
      "metadata": {
        "id": "j_tXSWZ2ia6S"
      },
      "execution_count": null,
      "outputs": []
    },
    {
      "cell_type": "code",
      "source": [
        "env = gym.make(ENVIRONMENT)\n",
        "obs = env.reset()\n",
        "plt.imshow(env.render(mode='rgb_array'), aspect='auto')\n",
        "plt.show()"
      ],
      "metadata": {
        "id": "aGdQawKGi1U-"
      },
      "execution_count": null,
      "outputs": []
    },
    {
      "cell_type": "code",
      "source": [
        "env = gym.make(ENVIRONMENT)\n",
        "env.seed(2022)\n",
        "obs = env.reset()\n",
        "\n",
        "a = env.action_space.sample()\n",
        "for i in range(5000):\n",
        "    a = env.action_space.sample()\n",
        "    observation, reward, done, info = env.step(a)\n",
        "    if (i + 1) % 5 == 0:\n",
        "        clear_output(True)\n",
        "        screen = env.render(mode='rgb_array')\n",
        "        plt.imshow(screen, aspect='auto')\n",
        "        plt.show()\n",
        "    if done:\n",
        "        break"
      ],
      "metadata": {
        "id": "uFM7lssSi4i1"
      },
      "execution_count": null,
      "outputs": []
    },
    {
      "cell_type": "code",
      "source": [
        "environment = gym.make(ENVIRONMENT)\n",
        "print(\"environment observation\", environment.observation_space)\n",
        "print(\"environment action space\", environment.action_space)\n",
        "environment.reset()\n",
        "print(\"next state, reward, done\", environment.step( environment.action_space.sample()))"
      ],
      "metadata": {
        "id": "SX9GCv8Bl4Kf"
      },
      "execution_count": null,
      "outputs": []
    },
    {
      "cell_type": "markdown",
      "source": [
        "feel free to do more experiments with the environment."
      ],
      "metadata": {
        "id": "kbBRKaYkohWg"
      }
    },
    {
      "cell_type": "markdown",
      "source": [
        "# Hyperparameters"
      ],
      "metadata": {
        "id": "9sLt799aVo7h"
      }
    },
    {
      "cell_type": "markdown",
      "source": [
        "There are some parameters for your implementation. Feel free to change them."
      ],
      "metadata": {
        "id": "P0kq3RMMVeIT"
      }
    },
    {
      "cell_type": "code",
      "source": [
        "\n",
        "SAVE_MODELS = True  # Save models to file so you can test later\n",
        "MODEL_PATH = \"./pong-cnn-\"  # Models path for saving or loading\n",
        "SAVE_MODEL_INTERVAL = 10  # Save models at every X epoch\n",
        "TRAIN_MODEL = True  # Train model while playing (Make it False when testing a model)\n",
        "\n",
        "LOAD_MODEL_FROM_FILE = False  # Load model from file\n",
        "LOAD_FILE_EPISODE = 0  # Load Xth episode from file\n",
        "\n",
        "BATCH_SIZE = 64  # Minibatch size that select randomly from mem for train nets\n",
        "MAX_EPISODE = 100000  # Max episode\n",
        "MAX_STEP = 100000  # Max step size for one episode\n",
        "\n",
        "MAX_MEMORY_LEN = 50000  # Max memory len\n",
        "MIN_MEMORY_LEN = 40000  # Min memory len before start train\n",
        "\n",
        "GAMMA = 0.97  # Discount rate\n",
        "ALPHA = 0.00025  # Learning rate\n",
        "EPSILON_DECAY = 0.99  # Epsilon decay rate by step\n",
        "\n",
        "RENDER_GAME_WINDOW = False  # Opens a new window to render the game (Won't work on colab default)"
      ],
      "metadata": {
        "id": "tUrUoQF3K8yz"
      },
      "execution_count": null,
      "outputs": []
    },
    {
      "cell_type": "markdown",
      "source": [
        "# Image proccessing "
      ],
      "metadata": {
        "id": "FL88xi4CVspF"
      }
    },
    {
      "cell_type": "markdown",
      "source": [
        "Here you are asked to perform some preprocessing for input and outputs.\n",
        "You are free to implement CNN. Here is the recommended network [DuelCNN](https://arxiv.org/abs/1511.06581) which a specialized network for RL tasks."
      ],
      "metadata": {
        "id": "27bwT15lkGIH"
      }
    },
    {
      "cell_type": "markdown",
      "source": [
        "![image.png](data:image/png;base64,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)"
      ],
      "metadata": {
        "id": "tdxOilduD31l"
      }
    },
    {
      "cell_type": "markdown",
      "source": [
        "The recommanded arcitecture for Q network is shown above.\n",
        "Input of network is a preprocessed 4-stacked continous frames of the game. (this trick is done in order for agent to understant the time!)\n",
        "\n",
        "The network would then be splitted into two parralel linear layers for value and actions. \n",
        "\n",
        "These two layers would then be combined into a action_space sized vector as the output of the network. "
      ],
      "metadata": {
        "id": "mFVZWoegC3lH"
      }
    },
    {
      "cell_type": "code",
      "source": [
        "class DuelCNN(nn.Module):\n",
        "  \n",
        "    def __init__(self, h, w, output_size):\n",
        "        # todo\n",
        "        pass\n",
        "\n",
        "    def forward(self, x):\n",
        "        # todo\n",
        "        pass"
      ],
      "metadata": {
        "id": "lh5QRINuLJlz"
      },
      "execution_count": null,
      "outputs": []
    },
    {
      "cell_type": "markdown",
      "source": [
        "# DoubleDQN Agent (DDQN)"
      ],
      "metadata": {
        "id": "CWaVrECBnY2H"
      }
    },
    {
      "cell_type": "markdown",
      "source": [
        "Below you are asked to implement a DDQN agent. \n",
        "Make sure to check next section (learning loop) in order to implement Agent class. \n",
        "\n",
        "You can also see DDQN pseudo code:\n"
      ],
      "metadata": {
        "id": "f7xiFB83rZB1"
      }
    },
    {
      "cell_type": "markdown",
      "source": [
        "**Algorithm A. DDQN**\n",
        "\n",
        "\n",
        "Q1 = online Q network\n",
        "Q2 = target Q network\n",
        "\n",
        "For each step:\n",
        "1. Choose action a ϵ-greedy(Q1)\n",
        "2. s = env.step(a)\n",
        "3. store into replay buffer\n",
        "4. train Q1 and Q2 networks with algorithm B(Q1, Q2, replay_buffer)\n",
        "5. Q2 ← Q1\n",
        "\n",
        "**Algorithm B. train**\n",
        "1. take samples (s, a, r, ns, done) from replay_buffer\n",
        "2. train Q1 with loss function: \n",
        "\n",
        "$$ ℒ(Q1(s, a), r + γ * Q2(ns, argmax Q1(ns, a')))$$\n",
        "\n",
        "where\n",
        "\n",
        "$$ ℒ(x, y) = (x-y)^{2}$$\n"
      ],
      "metadata": {
        "id": "sPZLRh_fWVHn"
      }
    },
    {
      "cell_type": "code",
      "source": [
        "class Agent:\n",
        "    def __init__(self, environment):\n",
        "        \"\"\"\n",
        "        Hyperparameters definition for Agent\n",
        "        \"\"\"\n",
        "\n",
        "        # set other necessary parameters for the two DuelCNNs\n",
        "\n",
        "        # Image pre process params set height and width and crop(20pixels from top)\n",
        "        #todo\n",
        "\n",
        "        # Trust rate to our experiences\n",
        "        self.gamma = GAMMA  # Discount coef for future predictions\n",
        "        self.alpha = ALPHA  # Learning Rate\n",
        "\n",
        "        # After many experinces epsilon will be 0.05\n",
        "        # So we will do less Explore more Exploit\n",
        "        # set self.epsilon (initial epsilon), self.epsilon_decay and self.epsilon_minimum\n",
        "        #todo\n",
        "\n",
        "        # Deque holds replay mem (replay_buffer).\n",
        "        #todo\n",
        "\n",
        "\n",
        "        # Create two model for DDQN algorithm (online_model and target_model CNNs)\n",
        "        #todo\n",
        "\n",
        "        # set the optimizer\n",
        "        #todo\n",
        "\n",
        "\n",
        "    def preProcess(self, image):\n",
        "        \"\"\"\n",
        "        Process image (for example to grayscale)\n",
        "        crop (the score table above each picture),\n",
        "        resize (to (target_w, target_h)),\n",
        "        and\n",
        "        normalize the images\n",
        "        \"\"\"\n",
        "        #todo\n",
        "        return processed_img\n",
        "\n",
        "    def act(self, state):\n",
        "        \"\"\"\n",
        "        Get state and do action\n",
        "        Two option can be selectedd if explore select random action\n",
        "        if exploit ask nnet for action\n",
        "        use epsilon greedy algorithm\n",
        "        \"\"\"\n",
        "\n",
        "        #todo\n",
        "\n",
        "        return action\n",
        "\n",
        "    def train(self):\n",
        "        \"\"\"\n",
        "        Train neural nets with replay memory\n",
        "        returns loss and max_q val predicted from online_net\n",
        "        \"\"\"\n",
        "        if len(agent.memory) < MIN_MEMORY_LEN:\n",
        "            loss, max_q = [0, 0]\n",
        "            return loss, max_q\n",
        "\n",
        "        \"use specified algorithm to complete the code\"\n",
        "        #todo \n",
        "        \n",
        "        return loss, max_q\n",
        "\n",
        "    def storeResults(self, state, action, reward, nextState, done):\n",
        "        \"\"\"\n",
        "        Store every result to memory\n",
        "        Create a replay buffer of [state, action, reward, nextState, done] for nn\n",
        "        \"\"\"\n",
        "        #todo\n",
        "        pass\n",
        "\n",
        "    def adaptiveEpsilon(self):\n",
        "        \"\"\"\n",
        "        Adaptive Epsilon means every step\n",
        "        we decrease the epsilon so we do less Explore\n",
        "        \"\"\"\n",
        "        #todo\n",
        "        pass\n"
      ],
      "metadata": {
        "id": "Uw_unBUOLKhX"
      },
      "execution_count": null,
      "outputs": []
    },
    {
      "cell_type": "markdown",
      "source": [
        "# Learning loop"
      ],
      "metadata": {
        "id": "xBilR1UPnT6b"
      }
    },
    {
      "cell_type": "markdown",
      "source": [
        "Running this loop, would take 7 to 12 hours!\n",
        "\n",
        "So make sure to save and load your trained models frequently."
      ],
      "metadata": {
        "id": "wT4K7DmMan9U"
      }
    },
    {
      "cell_type": "code",
      "source": [
        "environment = gym.make(ENVIRONMENT)  # Get env\n",
        "agent = Agent(environment)  # Create Agent\n",
        "\n",
        "if LOAD_MODEL_FROM_FILE:\n",
        "    agent.online_model.load_state_dict(torch.load(MODEL_PATH+str(LOAD_FILE_EPISODE)+\".pkl\"))\n",
        "\n",
        "    with open(MODEL_PATH+str(LOAD_FILE_EPISODE)+'.json') as outfile:\n",
        "        param = json.load(outfile)\n",
        "        agent.epsilon = param.get('epsilon')\n",
        "\n",
        "    startEpisode = LOAD_FILE_EPISODE + 1\n",
        "\n",
        "else:\n",
        "    startEpisode = 1\n",
        "\n",
        "last_100_ep_reward = deque(maxlen=100)  # Last 100 episode rewards\n",
        "total_step = 1  # Cumulkative sum of all steps in episodes\n",
        "for episode in range(startEpisode, MAX_EPISODE):\n",
        "\n",
        "    startTime = time.time()  # Keep time\n",
        "    state = environment.reset()  # Reset env\n",
        "\n",
        "    state = agent.preProcess(state)  # Process image\n",
        "\n",
        "    # Stack state . Every state contains 4 time contionusly frames\n",
        "    # We stack frames like 4 channel image\n",
        "    state = np.stack((state, state, state, state))\n",
        "\n",
        "    total_max_q_val = 0  # Total max q vals\n",
        "    total_reward = 0  # Total reward for each episode\n",
        "    total_loss = 0  # Total loss for each episode\n",
        "    for step in range(MAX_STEP):\n",
        "\n",
        "        if RENDER_GAME_WINDOW:\n",
        "            plt.imshow(env.render(mode='rgb_array'), aspect='auto')\n",
        "            plt.show()  # Show state visually\n",
        "\n",
        "        # Select and perform an action\n",
        "        action = agent.act(state)  # Act\n",
        "        next_state, reward, done, info = environment.step(action)  # Observe\n",
        "\n",
        "        next_state = agent.preProcess(next_state)  # Process image\n",
        "\n",
        "        # Stack state . Every state contains 4 time contionusly frames\n",
        "        # We stack frames like 4 channel image\n",
        "        next_state = np.stack((next_state, state[0], state[1], state[2]))\n",
        "\n",
        "        # Store the transition in memory\n",
        "        agent.storeResults(state, action, reward, next_state, done)  # Store to mem\n",
        "\n",
        "        # Move to the next state\n",
        "        state = next_state  # Update state\n",
        "\n",
        "        if TRAIN_MODEL:\n",
        "            # Perform one step of the optimization (on the target network)\n",
        "            loss, max_q_val = agent.train()  # Train with random BATCH_SIZE state taken from mem\n",
        "        else:\n",
        "            loss, max_q_val = [0, 0]\n",
        "\n",
        "        total_loss += loss\n",
        "        total_max_q_val += max_q_val\n",
        "        total_reward += reward\n",
        "        total_step += 1\n",
        "        if total_step % 1000 == 0:\n",
        "            agent.adaptiveEpsilon()  # Decrase epsilon\n",
        "\n",
        "        if done:  # Episode completed\n",
        "            currentTime = time.time()  # Keep current time\n",
        "            time_passed = currentTime - startTime  # Find episode duration\n",
        "            current_time_format = time.strftime(\"%H:%M:%S\", time.gmtime())  # Get current dateTime as HH:MM:SS\n",
        "            epsilonDict = {'epsilon': agent.epsilon}  # Create epsilon dict to save model as file\n",
        "\n",
        "            if SAVE_MODELS and episode % SAVE_MODEL_INTERVAL == 0:  # Save model as file\n",
        "                weightsPath = MODEL_PATH + str(episode) + '.pkl'\n",
        "                epsilonPath = MODEL_PATH + str(episode) + '.json'\n",
        "\n",
        "                torch.save(agent.online_model.state_dict(), weightsPath)\n",
        "                with open(epsilonPath, 'w') as outfile:\n",
        "                    json.dump(epsilonDict, outfile)\n",
        "\n",
        "            if TRAIN_MODEL:\n",
        "                agent.target_model.load_state_dict(agent.online_model.state_dict())  # Update target model\n",
        "\n",
        "            last_100_ep_reward.append(total_reward)\n",
        "            avg_max_q_val = total_max_q_val / step\n",
        "\n",
        "            outStr = \"Episode:{} Time:{} Reward:{:.2f} Loss:{:.2f} Last_100_Avg_Rew:{:.3f} Avg_Max_Q:{:.3f} Epsilon:{:.2f} Duration:{:.2f} Step:{} CStep:{}\".format(\n",
        "                episode, current_time_format, total_reward, total_loss, np.mean(last_100_ep_reward), avg_max_q_val, agent.epsilon, time_passed, step, total_step\n",
        "            )\n",
        "\n",
        "            print(outStr)\n",
        "\n",
        "            if SAVE_MODELS:\n",
        "                outputPath = MODEL_PATH + \"out\" + '.txt'  # Save outStr to file\n",
        "                with open(outputPath, 'a') as outfile:\n",
        "                    outfile.write(outStr+\"\\n\")\n",
        "\n",
        "            break"
      ],
      "metadata": {
        "id": "yzYVlaOxLQIl"
      },
      "execution_count": null,
      "outputs": []
    },
    {
      "cell_type": "markdown",
      "source": [
        "#play\n"
      ],
      "metadata": {
        "id": "IFaZEEiOu4xG"
      }
    },
    {
      "cell_type": "markdown",
      "source": [
        "play with your trained agent! (show the game in a gif!)\n",
        "\n",
        "---\n",
        "Play with the agent in 5 different stages of training. Explain what you observe. Does the agent monotically improve its performance?"
      ],
      "metadata": {
        "id": "jErPJoJPu8iy"
      }
    },
    {
      "cell_type": "code",
      "source": [
        ""
      ],
      "metadata": {
        "id": "D9eAjdEDu7qJ"
      },
      "execution_count": null,
      "outputs": []
    },
    {
      "cell_type": "markdown",
      "source": [
        "# Analysis of results"
      ],
      "metadata": {
        "id": "J-FRfhefngs9"
      }
    },
    {
      "cell_type": "markdown",
      "source": [
        "Analyse your results.\n",
        "\n",
        "Q-values, actions, total rewards, and number of steps per epsiode.\n",
        "\n",
        "Use convinient plots to support your statements."
      ],
      "metadata": {
        "id": "CaePNEJBtNk-"
      }
    },
    {
      "cell_type": "code",
      "source": [
        ""
      ],
      "metadata": {
        "id": "mI0YJP6-MnvC"
      },
      "execution_count": null,
      "outputs": []
    },
    {
      "cell_type": "markdown",
      "source": [
        "# Resources"
      ],
      "metadata": {
        "id": "RdSVkhn5RW6A"
      }
    },
    {
      "cell_type": "markdown",
      "source": [
        "specify other resources (if any) you used for this question."
      ],
      "metadata": {
        "id": "PWJLNU6BRbql"
      }
    }
  ]
}